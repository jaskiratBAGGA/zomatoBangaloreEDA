{
 "cells": [
  {
   "cell_type": "markdown",
   "metadata": {},
   "source": [
    "# **Zomato Data Set Analysis and Visualization**\n"
   ]
  },
  {
   "cell_type": "markdown",
   "metadata": {},
   "source": [
    "![](http://mc.webpcache.epapr.in/discover.php?in=https://mcmscache.epapr.in/post_images/website_350/post_21404986/full.jpg)"
   ]
  },
  {
   "cell_type": "markdown",
   "metadata": {},
   "source": [
    "## Importing Libraries"
   ]
  },
  {
   "cell_type": "code",
   "execution_count": 66,
   "metadata": {
    "execution": {
     "iopub.execute_input": "2021-06-01T09:33:24.913497Z",
     "iopub.status.busy": "2021-06-01T09:33:24.912795Z",
     "iopub.status.idle": "2021-06-01T09:33:24.92086Z",
     "shell.execute_reply": "2021-06-01T09:33:24.919625Z",
     "shell.execute_reply.started": "2021-06-01T09:33:24.913449Z"
    }
   },
   "outputs": [],
   "source": [
    "import pandas as pd\n",
    "import numpy as np\n",
    "import matplotlib.pyplot as plt\n",
    "import seaborn as sns\n",
    "plt.style.use('dark_background')"
   ]
  },
  {
   "cell_type": "markdown",
   "metadata": {},
   "source": [
    "## Reading CSV"
   ]
  },
  {
   "cell_type": "code",
   "execution_count": 67,
   "metadata": {
    "execution": {
     "iopub.execute_input": "2021-06-01T09:33:24.939642Z",
     "iopub.status.busy": "2021-06-01T09:33:24.939192Z",
     "iopub.status.idle": "2021-06-01T09:33:31.668996Z",
     "shell.execute_reply": "2021-06-01T09:33:31.667544Z",
     "shell.execute_reply.started": "2021-06-01T09:33:24.939605Z"
    }
   },
   "outputs": [
    {
     "data": {
      "text/html": [
       "<div>\n",
       "<style scoped>\n",
       "    .dataframe tbody tr th:only-of-type {\n",
       "        vertical-align: middle;\n",
       "    }\n",
       "\n",
       "    .dataframe tbody tr th {\n",
       "        vertical-align: top;\n",
       "    }\n",
       "\n",
       "    .dataframe thead th {\n",
       "        text-align: right;\n",
       "    }\n",
       "</style>\n",
       "<table border=\"1\" class=\"dataframe\">\n",
       "  <thead>\n",
       "    <tr style=\"text-align: right;\">\n",
       "      <th></th>\n",
       "      <th>url</th>\n",
       "      <th>address</th>\n",
       "      <th>name</th>\n",
       "      <th>online_order</th>\n",
       "      <th>book_table</th>\n",
       "      <th>rate</th>\n",
       "      <th>votes</th>\n",
       "      <th>phone</th>\n",
       "      <th>location</th>\n",
       "      <th>rest_type</th>\n",
       "      <th>dish_liked</th>\n",
       "      <th>cuisines</th>\n",
       "      <th>approx_cost(for two people)</th>\n",
       "      <th>reviews_list</th>\n",
       "      <th>menu_item</th>\n",
       "      <th>listed_in(type)</th>\n",
       "      <th>listed_in(city)</th>\n",
       "    </tr>\n",
       "  </thead>\n",
       "  <tbody>\n",
       "    <tr>\n",
       "      <th>0</th>\n",
       "      <td>https://www.zomato.com/bangalore/jalsa-banasha...</td>\n",
       "      <td>942, 21st Main Road, 2nd Stage, Banashankari, ...</td>\n",
       "      <td>Jalsa</td>\n",
       "      <td>Yes</td>\n",
       "      <td>Yes</td>\n",
       "      <td>4.1/5</td>\n",
       "      <td>775</td>\n",
       "      <td>080 42297555\\r\\n+91 9743772233</td>\n",
       "      <td>Banashankari</td>\n",
       "      <td>Casual Dining</td>\n",
       "      <td>Pasta, Lunch Buffet, Masala Papad, Paneer Laja...</td>\n",
       "      <td>North Indian, Mughlai, Chinese</td>\n",
       "      <td>800</td>\n",
       "      <td>[('Rated 4.0', 'RATED\\n  A beautiful place to ...</td>\n",
       "      <td>[]</td>\n",
       "      <td>Buffet</td>\n",
       "      <td>Banashankari</td>\n",
       "    </tr>\n",
       "    <tr>\n",
       "      <th>1</th>\n",
       "      <td>https://www.zomato.com/bangalore/spice-elephan...</td>\n",
       "      <td>2nd Floor, 80 Feet Road, Near Big Bazaar, 6th ...</td>\n",
       "      <td>Spice Elephant</td>\n",
       "      <td>Yes</td>\n",
       "      <td>No</td>\n",
       "      <td>4.1/5</td>\n",
       "      <td>787</td>\n",
       "      <td>080 41714161</td>\n",
       "      <td>Banashankari</td>\n",
       "      <td>Casual Dining</td>\n",
       "      <td>Momos, Lunch Buffet, Chocolate Nirvana, Thai G...</td>\n",
       "      <td>Chinese, North Indian, Thai</td>\n",
       "      <td>800</td>\n",
       "      <td>[('Rated 4.0', 'RATED\\n  Had been here for din...</td>\n",
       "      <td>[]</td>\n",
       "      <td>Buffet</td>\n",
       "      <td>Banashankari</td>\n",
       "    </tr>\n",
       "    <tr>\n",
       "      <th>2</th>\n",
       "      <td>https://www.zomato.com/SanchurroBangalore?cont...</td>\n",
       "      <td>1112, Next to KIMS Medical College, 17th Cross...</td>\n",
       "      <td>San Churro Cafe</td>\n",
       "      <td>Yes</td>\n",
       "      <td>No</td>\n",
       "      <td>3.8/5</td>\n",
       "      <td>918</td>\n",
       "      <td>+91 9663487993</td>\n",
       "      <td>Banashankari</td>\n",
       "      <td>Cafe, Casual Dining</td>\n",
       "      <td>Churros, Cannelloni, Minestrone Soup, Hot Choc...</td>\n",
       "      <td>Cafe, Mexican, Italian</td>\n",
       "      <td>800</td>\n",
       "      <td>[('Rated 3.0', \"RATED\\n  Ambience is not that ...</td>\n",
       "      <td>[]</td>\n",
       "      <td>Buffet</td>\n",
       "      <td>Banashankari</td>\n",
       "    </tr>\n",
       "    <tr>\n",
       "      <th>3</th>\n",
       "      <td>https://www.zomato.com/bangalore/addhuri-udupi...</td>\n",
       "      <td>1st Floor, Annakuteera, 3rd Stage, Banashankar...</td>\n",
       "      <td>Addhuri Udupi Bhojana</td>\n",
       "      <td>No</td>\n",
       "      <td>No</td>\n",
       "      <td>3.7/5</td>\n",
       "      <td>88</td>\n",
       "      <td>+91 9620009302</td>\n",
       "      <td>Banashankari</td>\n",
       "      <td>Quick Bites</td>\n",
       "      <td>Masala Dosa</td>\n",
       "      <td>South Indian, North Indian</td>\n",
       "      <td>300</td>\n",
       "      <td>[('Rated 4.0', \"RATED\\n  Great food and proper...</td>\n",
       "      <td>[]</td>\n",
       "      <td>Buffet</td>\n",
       "      <td>Banashankari</td>\n",
       "    </tr>\n",
       "    <tr>\n",
       "      <th>4</th>\n",
       "      <td>https://www.zomato.com/bangalore/grand-village...</td>\n",
       "      <td>10, 3rd Floor, Lakshmi Associates, Gandhi Baza...</td>\n",
       "      <td>Grand Village</td>\n",
       "      <td>No</td>\n",
       "      <td>No</td>\n",
       "      <td>3.8/5</td>\n",
       "      <td>166</td>\n",
       "      <td>+91 8026612447\\r\\n+91 9901210005</td>\n",
       "      <td>Basavanagudi</td>\n",
       "      <td>Casual Dining</td>\n",
       "      <td>Panipuri, Gol Gappe</td>\n",
       "      <td>North Indian, Rajasthani</td>\n",
       "      <td>600</td>\n",
       "      <td>[('Rated 4.0', 'RATED\\n  Very good restaurant ...</td>\n",
       "      <td>[]</td>\n",
       "      <td>Buffet</td>\n",
       "      <td>Banashankari</td>\n",
       "    </tr>\n",
       "  </tbody>\n",
       "</table>\n",
       "</div>"
      ],
      "text/plain": [
       "                                                 url  \\\n",
       "0  https://www.zomato.com/bangalore/jalsa-banasha...   \n",
       "1  https://www.zomato.com/bangalore/spice-elephan...   \n",
       "2  https://www.zomato.com/SanchurroBangalore?cont...   \n",
       "3  https://www.zomato.com/bangalore/addhuri-udupi...   \n",
       "4  https://www.zomato.com/bangalore/grand-village...   \n",
       "\n",
       "                                             address                   name  \\\n",
       "0  942, 21st Main Road, 2nd Stage, Banashankari, ...                  Jalsa   \n",
       "1  2nd Floor, 80 Feet Road, Near Big Bazaar, 6th ...         Spice Elephant   \n",
       "2  1112, Next to KIMS Medical College, 17th Cross...        San Churro Cafe   \n",
       "3  1st Floor, Annakuteera, 3rd Stage, Banashankar...  Addhuri Udupi Bhojana   \n",
       "4  10, 3rd Floor, Lakshmi Associates, Gandhi Baza...          Grand Village   \n",
       "\n",
       "  online_order book_table   rate  votes                             phone  \\\n",
       "0          Yes        Yes  4.1/5    775    080 42297555\\r\\n+91 9743772233   \n",
       "1          Yes         No  4.1/5    787                      080 41714161   \n",
       "2          Yes         No  3.8/5    918                    +91 9663487993   \n",
       "3           No         No  3.7/5     88                    +91 9620009302   \n",
       "4           No         No  3.8/5    166  +91 8026612447\\r\\n+91 9901210005   \n",
       "\n",
       "       location            rest_type  \\\n",
       "0  Banashankari        Casual Dining   \n",
       "1  Banashankari        Casual Dining   \n",
       "2  Banashankari  Cafe, Casual Dining   \n",
       "3  Banashankari          Quick Bites   \n",
       "4  Basavanagudi        Casual Dining   \n",
       "\n",
       "                                          dish_liked  \\\n",
       "0  Pasta, Lunch Buffet, Masala Papad, Paneer Laja...   \n",
       "1  Momos, Lunch Buffet, Chocolate Nirvana, Thai G...   \n",
       "2  Churros, Cannelloni, Minestrone Soup, Hot Choc...   \n",
       "3                                        Masala Dosa   \n",
       "4                                Panipuri, Gol Gappe   \n",
       "\n",
       "                         cuisines approx_cost(for two people)  \\\n",
       "0  North Indian, Mughlai, Chinese                         800   \n",
       "1     Chinese, North Indian, Thai                         800   \n",
       "2          Cafe, Mexican, Italian                         800   \n",
       "3      South Indian, North Indian                         300   \n",
       "4        North Indian, Rajasthani                         600   \n",
       "\n",
       "                                        reviews_list menu_item  \\\n",
       "0  [('Rated 4.0', 'RATED\\n  A beautiful place to ...        []   \n",
       "1  [('Rated 4.0', 'RATED\\n  Had been here for din...        []   \n",
       "2  [('Rated 3.0', \"RATED\\n  Ambience is not that ...        []   \n",
       "3  [('Rated 4.0', \"RATED\\n  Great food and proper...        []   \n",
       "4  [('Rated 4.0', 'RATED\\n  Very good restaurant ...        []   \n",
       "\n",
       "  listed_in(type) listed_in(city)  \n",
       "0          Buffet    Banashankari  \n",
       "1          Buffet    Banashankari  \n",
       "2          Buffet    Banashankari  \n",
       "3          Buffet    Banashankari  \n",
       "4          Buffet    Banashankari  "
      ]
     },
     "execution_count": 67,
     "metadata": {},
     "output_type": "execute_result"
    }
   ],
   "source": [
    "df = pd.read_csv('zomato.csv')\n",
    "df.head()"
   ]
  },
  {
   "cell_type": "code",
   "execution_count": 68,
   "metadata": {
    "execution": {
     "iopub.execute_input": "2021-06-01T09:33:31.671132Z",
     "iopub.status.busy": "2021-06-01T09:33:31.67079Z",
     "iopub.status.idle": "2021-06-01T09:33:31.681664Z",
     "shell.execute_reply": "2021-06-01T09:33:31.679522Z",
     "shell.execute_reply.started": "2021-06-01T09:33:31.671098Z"
    }
   },
   "outputs": [
    {
     "data": {
      "text/plain": [
       "(51717, 17)"
      ]
     },
     "execution_count": 68,
     "metadata": {},
     "output_type": "execute_result"
    }
   ],
   "source": [
    "df.shape"
   ]
  },
  {
   "cell_type": "code",
   "execution_count": 69,
   "metadata": {
    "execution": {
     "iopub.execute_input": "2021-06-01T09:33:31.684947Z",
     "iopub.status.busy": "2021-06-01T09:33:31.68443Z",
     "iopub.status.idle": "2021-06-01T09:33:31.70443Z",
     "shell.execute_reply": "2021-06-01T09:33:31.702945Z",
     "shell.execute_reply.started": "2021-06-01T09:33:31.684895Z"
    }
   },
   "outputs": [
    {
     "data": {
      "text/plain": [
       "Index(['url', 'address', 'name', 'online_order', 'book_table', 'rate', 'votes',\n",
       "       'phone', 'location', 'rest_type', 'dish_liked', 'cuisines',\n",
       "       'approx_cost(for two people)', 'reviews_list', 'menu_item',\n",
       "       'listed_in(type)', 'listed_in(city)'],\n",
       "      dtype='object')"
      ]
     },
     "execution_count": 69,
     "metadata": {},
     "output_type": "execute_result"
    }
   ],
   "source": [
    "df.columns"
   ]
  },
  {
   "cell_type": "code",
   "execution_count": 70,
   "metadata": {
    "execution": {
     "iopub.execute_input": "2021-06-01T09:33:31.707444Z",
     "iopub.status.busy": "2021-06-01T09:33:31.707035Z",
     "iopub.status.idle": "2021-06-01T09:33:31.752213Z",
     "shell.execute_reply": "2021-06-01T09:33:31.750793Z",
     "shell.execute_reply.started": "2021-06-01T09:33:31.707407Z"
    }
   },
   "outputs": [
    {
     "data": {
      "text/html": [
       "<div>\n",
       "<style scoped>\n",
       "    .dataframe tbody tr th:only-of-type {\n",
       "        vertical-align: middle;\n",
       "    }\n",
       "\n",
       "    .dataframe tbody tr th {\n",
       "        vertical-align: top;\n",
       "    }\n",
       "\n",
       "    .dataframe thead th {\n",
       "        text-align: right;\n",
       "    }\n",
       "</style>\n",
       "<table border=\"1\" class=\"dataframe\">\n",
       "  <thead>\n",
       "    <tr style=\"text-align: right;\">\n",
       "      <th></th>\n",
       "      <th>name</th>\n",
       "      <th>online_order</th>\n",
       "      <th>book_table</th>\n",
       "      <th>rate</th>\n",
       "      <th>votes</th>\n",
       "      <th>location</th>\n",
       "      <th>rest_type</th>\n",
       "      <th>cuisines</th>\n",
       "      <th>approx_cost(for two people)</th>\n",
       "      <th>listed_in(type)</th>\n",
       "      <th>listed_in(city)</th>\n",
       "    </tr>\n",
       "  </thead>\n",
       "  <tbody>\n",
       "    <tr>\n",
       "      <th>0</th>\n",
       "      <td>Jalsa</td>\n",
       "      <td>Yes</td>\n",
       "      <td>Yes</td>\n",
       "      <td>4.1/5</td>\n",
       "      <td>775</td>\n",
       "      <td>Banashankari</td>\n",
       "      <td>Casual Dining</td>\n",
       "      <td>North Indian, Mughlai, Chinese</td>\n",
       "      <td>800</td>\n",
       "      <td>Buffet</td>\n",
       "      <td>Banashankari</td>\n",
       "    </tr>\n",
       "    <tr>\n",
       "      <th>1</th>\n",
       "      <td>Spice Elephant</td>\n",
       "      <td>Yes</td>\n",
       "      <td>No</td>\n",
       "      <td>4.1/5</td>\n",
       "      <td>787</td>\n",
       "      <td>Banashankari</td>\n",
       "      <td>Casual Dining</td>\n",
       "      <td>Chinese, North Indian, Thai</td>\n",
       "      <td>800</td>\n",
       "      <td>Buffet</td>\n",
       "      <td>Banashankari</td>\n",
       "    </tr>\n",
       "    <tr>\n",
       "      <th>2</th>\n",
       "      <td>San Churro Cafe</td>\n",
       "      <td>Yes</td>\n",
       "      <td>No</td>\n",
       "      <td>3.8/5</td>\n",
       "      <td>918</td>\n",
       "      <td>Banashankari</td>\n",
       "      <td>Cafe, Casual Dining</td>\n",
       "      <td>Cafe, Mexican, Italian</td>\n",
       "      <td>800</td>\n",
       "      <td>Buffet</td>\n",
       "      <td>Banashankari</td>\n",
       "    </tr>\n",
       "    <tr>\n",
       "      <th>3</th>\n",
       "      <td>Addhuri Udupi Bhojana</td>\n",
       "      <td>No</td>\n",
       "      <td>No</td>\n",
       "      <td>3.7/5</td>\n",
       "      <td>88</td>\n",
       "      <td>Banashankari</td>\n",
       "      <td>Quick Bites</td>\n",
       "      <td>South Indian, North Indian</td>\n",
       "      <td>300</td>\n",
       "      <td>Buffet</td>\n",
       "      <td>Banashankari</td>\n",
       "    </tr>\n",
       "    <tr>\n",
       "      <th>4</th>\n",
       "      <td>Grand Village</td>\n",
       "      <td>No</td>\n",
       "      <td>No</td>\n",
       "      <td>3.8/5</td>\n",
       "      <td>166</td>\n",
       "      <td>Basavanagudi</td>\n",
       "      <td>Casual Dining</td>\n",
       "      <td>North Indian, Rajasthani</td>\n",
       "      <td>600</td>\n",
       "      <td>Buffet</td>\n",
       "      <td>Banashankari</td>\n",
       "    </tr>\n",
       "  </tbody>\n",
       "</table>\n",
       "</div>"
      ],
      "text/plain": [
       "                    name online_order book_table   rate  votes      location  \\\n",
       "0                  Jalsa          Yes        Yes  4.1/5    775  Banashankari   \n",
       "1         Spice Elephant          Yes         No  4.1/5    787  Banashankari   \n",
       "2        San Churro Cafe          Yes         No  3.8/5    918  Banashankari   \n",
       "3  Addhuri Udupi Bhojana           No         No  3.7/5     88  Banashankari   \n",
       "4          Grand Village           No         No  3.8/5    166  Basavanagudi   \n",
       "\n",
       "             rest_type                        cuisines  \\\n",
       "0        Casual Dining  North Indian, Mughlai, Chinese   \n",
       "1        Casual Dining     Chinese, North Indian, Thai   \n",
       "2  Cafe, Casual Dining          Cafe, Mexican, Italian   \n",
       "3          Quick Bites      South Indian, North Indian   \n",
       "4        Casual Dining        North Indian, Rajasthani   \n",
       "\n",
       "  approx_cost(for two people) listed_in(type) listed_in(city)  \n",
       "0                         800          Buffet    Banashankari  \n",
       "1                         800          Buffet    Banashankari  \n",
       "2                         800          Buffet    Banashankari  \n",
       "3                         300          Buffet    Banashankari  \n",
       "4                         600          Buffet    Banashankari  "
      ]
     },
     "execution_count": 70,
     "metadata": {},
     "output_type": "execute_result"
    }
   ],
   "source": [
    "df = df.drop(['url', 'address', 'phone', 'menu_item', 'dish_liked', 'reviews_list'], axis = 1)\n",
    "df.head()"
   ]
  },
  {
   "cell_type": "code",
   "execution_count": 71,
   "metadata": {
    "execution": {
     "iopub.execute_input": "2021-06-01T09:33:31.754083Z",
     "iopub.status.busy": "2021-06-01T09:33:31.753687Z",
     "iopub.status.idle": "2021-06-01T09:33:31.821202Z",
     "shell.execute_reply": "2021-06-01T09:33:31.81986Z",
     "shell.execute_reply.started": "2021-06-01T09:33:31.754049Z"
    }
   },
   "outputs": [
    {
     "name": "stdout",
     "output_type": "stream",
     "text": [
      "<class 'pandas.core.frame.DataFrame'>\n",
      "RangeIndex: 51717 entries, 0 to 51716\n",
      "Data columns (total 11 columns):\n",
      " #   Column                       Non-Null Count  Dtype \n",
      "---  ------                       --------------  ----- \n",
      " 0   name                         51717 non-null  object\n",
      " 1   online_order                 51717 non-null  object\n",
      " 2   book_table                   51717 non-null  object\n",
      " 3   rate                         43942 non-null  object\n",
      " 4   votes                        51717 non-null  int64 \n",
      " 5   location                     51696 non-null  object\n",
      " 6   rest_type                    51490 non-null  object\n",
      " 7   cuisines                     51672 non-null  object\n",
      " 8   approx_cost(for two people)  51371 non-null  object\n",
      " 9   listed_in(type)              51717 non-null  object\n",
      " 10  listed_in(city)              51717 non-null  object\n",
      "dtypes: int64(1), object(10)\n",
      "memory usage: 4.3+ MB\n"
     ]
    }
   ],
   "source": [
    "df.info()"
   ]
  },
  {
   "cell_type": "markdown",
   "metadata": {},
   "source": [
    "## Dropping Duplicates"
   ]
  },
  {
   "cell_type": "code",
   "execution_count": 72,
   "metadata": {
    "execution": {
     "iopub.execute_input": "2021-06-01T09:33:31.823306Z",
     "iopub.status.busy": "2021-06-01T09:33:31.822832Z",
     "iopub.status.idle": "2021-06-01T09:33:31.907514Z",
     "shell.execute_reply": "2021-06-01T09:33:31.906251Z",
     "shell.execute_reply.started": "2021-06-01T09:33:31.823272Z"
    }
   },
   "outputs": [
    {
     "data": {
      "text/plain": [
       "(51609, 11)"
      ]
     },
     "execution_count": 72,
     "metadata": {},
     "output_type": "execute_result"
    }
   ],
   "source": [
    "df.drop_duplicates(inplace = True)\n",
    "df.shape"
   ]
  },
  {
   "cell_type": "markdown",
   "metadata": {},
   "source": [
    "## Cleaning Rate Column"
   ]
  },
  {
   "cell_type": "code",
   "execution_count": 73,
   "metadata": {
    "execution": {
     "iopub.execute_input": "2021-06-01T09:33:31.910103Z",
     "iopub.status.busy": "2021-06-01T09:33:31.909506Z",
     "iopub.status.idle": "2021-06-01T09:33:31.922434Z",
     "shell.execute_reply": "2021-06-01T09:33:31.921263Z",
     "shell.execute_reply.started": "2021-06-01T09:33:31.910065Z"
    },
    "scrolled": true
   },
   "outputs": [
    {
     "data": {
      "text/plain": [
       "array(['4.1/5', '3.8/5', '3.7/5', '3.6/5', '4.6/5', '4.0/5', '4.2/5',\n",
       "       '3.9/5', '3.1/5', '3.0/5', '3.2/5', '3.3/5', '2.8/5', '4.4/5',\n",
       "       '4.3/5', 'NEW', '2.9/5', '3.5/5', nan, '2.6/5', '3.8 /5', '3.4/5',\n",
       "       '4.5/5', '2.5/5', '2.7/5', '4.7/5', '2.4/5', '2.2/5', '2.3/5',\n",
       "       '3.4 /5', '-', '3.6 /5', '4.8/5', '3.9 /5', '4.2 /5', '4.0 /5',\n",
       "       '4.1 /5', '3.7 /5', '3.1 /5', '2.9 /5', '3.3 /5', '2.8 /5',\n",
       "       '3.5 /5', '2.7 /5', '2.5 /5', '3.2 /5', '2.6 /5', '4.5 /5',\n",
       "       '4.3 /5', '4.4 /5', '4.9/5', '2.1/5', '2.0/5', '1.8/5', '4.6 /5',\n",
       "       '4.9 /5', '3.0 /5', '4.8 /5', '2.3 /5', '4.7 /5', '2.4 /5',\n",
       "       '2.1 /5', '2.2 /5', '2.0 /5', '1.8 /5'], dtype=object)"
      ]
     },
     "execution_count": 73,
     "metadata": {},
     "output_type": "execute_result"
    }
   ],
   "source": [
    "df['rate'].unique()"
   ]
  },
  {
   "cell_type": "markdown",
   "metadata": {},
   "source": [
    "## Removing \"NEW\" ,  \"-\" and \"/5\" from Rate Column"
   ]
  },
  {
   "cell_type": "code",
   "execution_count": 74,
   "metadata": {
    "execution": {
     "iopub.execute_input": "2021-06-01T09:33:31.926166Z",
     "iopub.status.busy": "2021-06-01T09:33:31.925812Z",
     "iopub.status.idle": "2021-06-01T09:33:32.010179Z",
     "shell.execute_reply": "2021-06-01T09:33:32.008876Z",
     "shell.execute_reply.started": "2021-06-01T09:33:31.926127Z"
    }
   },
   "outputs": [
    {
     "data": {
      "text/plain": [
       "0    4.1\n",
       "1    4.1\n",
       "2    3.8\n",
       "3    3.7\n",
       "4    3.8\n",
       "Name: rate, dtype: float64"
      ]
     },
     "execution_count": 74,
     "metadata": {},
     "output_type": "execute_result"
    }
   ],
   "source": [
    "def handlerate(value):\n",
    "    if(value=='NEW' or value=='-'):\n",
    "        return np.nan\n",
    "    else:\n",
    "        value = str(value).split('/')\n",
    "        value = value[0]\n",
    "        return float(value)\n",
    "    \n",
    "df['rate'] = df['rate'].apply(handlerate)\n",
    "df['rate'].head()"
   ]
  },
  {
   "cell_type": "code",
   "execution_count": 75,
   "metadata": {},
   "outputs": [
    {
     "data": {
      "text/plain": [
       "10019"
      ]
     },
     "execution_count": 75,
     "metadata": {},
     "output_type": "execute_result"
    }
   ],
   "source": [
    "df['rate'].isnull().sum()"
   ]
  },
  {
   "cell_type": "code",
   "execution_count": 76,
   "metadata": {
    "execution": {
     "iopub.execute_input": "2021-06-01T09:33:32.013199Z",
     "iopub.status.busy": "2021-06-01T09:33:32.012685Z",
     "iopub.status.idle": "2021-06-01T09:33:32.025216Z",
     "shell.execute_reply": "2021-06-01T09:33:32.023947Z",
     "shell.execute_reply.started": "2021-06-01T09:33:32.01315Z"
    }
   },
   "outputs": [
    {
     "data": {
      "text/plain": [
       "0"
      ]
     },
     "execution_count": 76,
     "metadata": {},
     "output_type": "execute_result"
    }
   ],
   "source": [
    "df['rate'].fillna(df['rate'].mean(), inplace = True)\n",
    "df['rate'].isnull().sum()"
   ]
  },
  {
   "cell_type": "code",
   "execution_count": null,
   "metadata": {},
   "outputs": [],
   "source": []
  },
  {
   "cell_type": "markdown",
   "metadata": {},
   "source": [
    "## Filling Null Values in Rate Column with Mean"
   ]
  },
  {
   "cell_type": "code",
   "execution_count": 77,
   "metadata": {
    "execution": {
     "iopub.execute_input": "2021-06-01T09:33:32.028031Z",
     "iopub.status.busy": "2021-06-01T09:33:32.027495Z",
     "iopub.status.idle": "2021-06-01T09:33:32.097792Z",
     "shell.execute_reply": "2021-06-01T09:33:32.09583Z",
     "shell.execute_reply.started": "2021-06-01T09:33:32.027977Z"
    },
    "scrolled": true
   },
   "outputs": [
    {
     "name": "stdout",
     "output_type": "stream",
     "text": [
      "<class 'pandas.core.frame.DataFrame'>\n",
      "Int64Index: 51609 entries, 0 to 51716\n",
      "Data columns (total 11 columns):\n",
      " #   Column                       Non-Null Count  Dtype  \n",
      "---  ------                       --------------  -----  \n",
      " 0   name                         51609 non-null  object \n",
      " 1   online_order                 51609 non-null  object \n",
      " 2   book_table                   51609 non-null  object \n",
      " 3   rate                         51609 non-null  float64\n",
      " 4   votes                        51609 non-null  int64  \n",
      " 5   location                     51588 non-null  object \n",
      " 6   rest_type                    51382 non-null  object \n",
      " 7   cuisines                     51564 non-null  object \n",
      " 8   approx_cost(for two people)  51265 non-null  object \n",
      " 9   listed_in(type)              51609 non-null  object \n",
      " 10  listed_in(city)              51609 non-null  object \n",
      "dtypes: float64(1), int64(1), object(9)\n",
      "memory usage: 4.7+ MB\n"
     ]
    }
   ],
   "source": [
    "df.info()"
   ]
  },
  {
   "cell_type": "markdown",
   "metadata": {},
   "source": [
    "## Dropping Null Values"
   ]
  },
  {
   "cell_type": "code",
   "execution_count": 78,
   "metadata": {
    "execution": {
     "iopub.execute_input": "2021-06-01T09:33:32.099557Z",
     "iopub.status.busy": "2021-06-01T09:33:32.099104Z",
     "iopub.status.idle": "2021-06-01T09:33:32.170336Z",
     "shell.execute_reply": "2021-06-01T09:33:32.169275Z",
     "shell.execute_reply.started": "2021-06-01T09:33:32.099526Z"
    }
   },
   "outputs": [
    {
     "data": {
      "text/html": [
       "<div>\n",
       "<style scoped>\n",
       "    .dataframe tbody tr th:only-of-type {\n",
       "        vertical-align: middle;\n",
       "    }\n",
       "\n",
       "    .dataframe tbody tr th {\n",
       "        vertical-align: top;\n",
       "    }\n",
       "\n",
       "    .dataframe thead th {\n",
       "        text-align: right;\n",
       "    }\n",
       "</style>\n",
       "<table border=\"1\" class=\"dataframe\">\n",
       "  <thead>\n",
       "    <tr style=\"text-align: right;\">\n",
       "      <th></th>\n",
       "      <th>name</th>\n",
       "      <th>online_order</th>\n",
       "      <th>book_table</th>\n",
       "      <th>rate</th>\n",
       "      <th>votes</th>\n",
       "      <th>location</th>\n",
       "      <th>rest_type</th>\n",
       "      <th>cuisines</th>\n",
       "      <th>approx_cost(for two people)</th>\n",
       "      <th>listed_in(type)</th>\n",
       "      <th>listed_in(city)</th>\n",
       "    </tr>\n",
       "  </thead>\n",
       "  <tbody>\n",
       "    <tr>\n",
       "      <th>0</th>\n",
       "      <td>Jalsa</td>\n",
       "      <td>Yes</td>\n",
       "      <td>Yes</td>\n",
       "      <td>4.1</td>\n",
       "      <td>775</td>\n",
       "      <td>Banashankari</td>\n",
       "      <td>Casual Dining</td>\n",
       "      <td>North Indian, Mughlai, Chinese</td>\n",
       "      <td>800</td>\n",
       "      <td>Buffet</td>\n",
       "      <td>Banashankari</td>\n",
       "    </tr>\n",
       "    <tr>\n",
       "      <th>1</th>\n",
       "      <td>Spice Elephant</td>\n",
       "      <td>Yes</td>\n",
       "      <td>No</td>\n",
       "      <td>4.1</td>\n",
       "      <td>787</td>\n",
       "      <td>Banashankari</td>\n",
       "      <td>Casual Dining</td>\n",
       "      <td>Chinese, North Indian, Thai</td>\n",
       "      <td>800</td>\n",
       "      <td>Buffet</td>\n",
       "      <td>Banashankari</td>\n",
       "    </tr>\n",
       "    <tr>\n",
       "      <th>2</th>\n",
       "      <td>San Churro Cafe</td>\n",
       "      <td>Yes</td>\n",
       "      <td>No</td>\n",
       "      <td>3.8</td>\n",
       "      <td>918</td>\n",
       "      <td>Banashankari</td>\n",
       "      <td>Cafe, Casual Dining</td>\n",
       "      <td>Cafe, Mexican, Italian</td>\n",
       "      <td>800</td>\n",
       "      <td>Buffet</td>\n",
       "      <td>Banashankari</td>\n",
       "    </tr>\n",
       "    <tr>\n",
       "      <th>3</th>\n",
       "      <td>Addhuri Udupi Bhojana</td>\n",
       "      <td>No</td>\n",
       "      <td>No</td>\n",
       "      <td>3.7</td>\n",
       "      <td>88</td>\n",
       "      <td>Banashankari</td>\n",
       "      <td>Quick Bites</td>\n",
       "      <td>South Indian, North Indian</td>\n",
       "      <td>300</td>\n",
       "      <td>Buffet</td>\n",
       "      <td>Banashankari</td>\n",
       "    </tr>\n",
       "    <tr>\n",
       "      <th>4</th>\n",
       "      <td>Grand Village</td>\n",
       "      <td>No</td>\n",
       "      <td>No</td>\n",
       "      <td>3.8</td>\n",
       "      <td>166</td>\n",
       "      <td>Basavanagudi</td>\n",
       "      <td>Casual Dining</td>\n",
       "      <td>North Indian, Rajasthani</td>\n",
       "      <td>600</td>\n",
       "      <td>Buffet</td>\n",
       "      <td>Banashankari</td>\n",
       "    </tr>\n",
       "  </tbody>\n",
       "</table>\n",
       "</div>"
      ],
      "text/plain": [
       "                    name online_order book_table  rate  votes      location  \\\n",
       "0                  Jalsa          Yes        Yes   4.1    775  Banashankari   \n",
       "1         Spice Elephant          Yes         No   4.1    787  Banashankari   \n",
       "2        San Churro Cafe          Yes         No   3.8    918  Banashankari   \n",
       "3  Addhuri Udupi Bhojana           No         No   3.7     88  Banashankari   \n",
       "4          Grand Village           No         No   3.8    166  Basavanagudi   \n",
       "\n",
       "             rest_type                        cuisines  \\\n",
       "0        Casual Dining  North Indian, Mughlai, Chinese   \n",
       "1        Casual Dining     Chinese, North Indian, Thai   \n",
       "2  Cafe, Casual Dining          Cafe, Mexican, Italian   \n",
       "3          Quick Bites      South Indian, North Indian   \n",
       "4        Casual Dining        North Indian, Rajasthani   \n",
       "\n",
       "  approx_cost(for two people) listed_in(type) listed_in(city)  \n",
       "0                         800          Buffet    Banashankari  \n",
       "1                         800          Buffet    Banashankari  \n",
       "2                         800          Buffet    Banashankari  \n",
       "3                         300          Buffet    Banashankari  \n",
       "4                         600          Buffet    Banashankari  "
      ]
     },
     "execution_count": 78,
     "metadata": {},
     "output_type": "execute_result"
    }
   ],
   "source": [
    "df.dropna(inplace = True)\n",
    "df.head()"
   ]
  },
  {
   "cell_type": "code",
   "execution_count": 79,
   "metadata": {
    "execution": {
     "iopub.execute_input": "2021-06-01T09:33:32.172436Z",
     "iopub.status.busy": "2021-06-01T09:33:32.17206Z",
     "iopub.status.idle": "2021-06-01T09:33:32.196428Z",
     "shell.execute_reply": "2021-06-01T09:33:32.195019Z",
     "shell.execute_reply.started": "2021-06-01T09:33:32.172403Z"
    },
    "scrolled": true
   },
   "outputs": [
    {
     "data": {
      "text/html": [
       "<div>\n",
       "<style scoped>\n",
       "    .dataframe tbody tr th:only-of-type {\n",
       "        vertical-align: middle;\n",
       "    }\n",
       "\n",
       "    .dataframe tbody tr th {\n",
       "        vertical-align: top;\n",
       "    }\n",
       "\n",
       "    .dataframe thead th {\n",
       "        text-align: right;\n",
       "    }\n",
       "</style>\n",
       "<table border=\"1\" class=\"dataframe\">\n",
       "  <thead>\n",
       "    <tr style=\"text-align: right;\">\n",
       "      <th></th>\n",
       "      <th>name</th>\n",
       "      <th>online_order</th>\n",
       "      <th>book_table</th>\n",
       "      <th>rate</th>\n",
       "      <th>votes</th>\n",
       "      <th>location</th>\n",
       "      <th>rest_type</th>\n",
       "      <th>cuisines</th>\n",
       "      <th>Cost2plates</th>\n",
       "      <th>Type</th>\n",
       "      <th>listed_in(city)</th>\n",
       "    </tr>\n",
       "  </thead>\n",
       "  <tbody>\n",
       "    <tr>\n",
       "      <th>0</th>\n",
       "      <td>Jalsa</td>\n",
       "      <td>Yes</td>\n",
       "      <td>Yes</td>\n",
       "      <td>4.1</td>\n",
       "      <td>775</td>\n",
       "      <td>Banashankari</td>\n",
       "      <td>Casual Dining</td>\n",
       "      <td>North Indian, Mughlai, Chinese</td>\n",
       "      <td>800</td>\n",
       "      <td>Buffet</td>\n",
       "      <td>Banashankari</td>\n",
       "    </tr>\n",
       "    <tr>\n",
       "      <th>1</th>\n",
       "      <td>Spice Elephant</td>\n",
       "      <td>Yes</td>\n",
       "      <td>No</td>\n",
       "      <td>4.1</td>\n",
       "      <td>787</td>\n",
       "      <td>Banashankari</td>\n",
       "      <td>Casual Dining</td>\n",
       "      <td>Chinese, North Indian, Thai</td>\n",
       "      <td>800</td>\n",
       "      <td>Buffet</td>\n",
       "      <td>Banashankari</td>\n",
       "    </tr>\n",
       "    <tr>\n",
       "      <th>2</th>\n",
       "      <td>San Churro Cafe</td>\n",
       "      <td>Yes</td>\n",
       "      <td>No</td>\n",
       "      <td>3.8</td>\n",
       "      <td>918</td>\n",
       "      <td>Banashankari</td>\n",
       "      <td>Cafe, Casual Dining</td>\n",
       "      <td>Cafe, Mexican, Italian</td>\n",
       "      <td>800</td>\n",
       "      <td>Buffet</td>\n",
       "      <td>Banashankari</td>\n",
       "    </tr>\n",
       "    <tr>\n",
       "      <th>3</th>\n",
       "      <td>Addhuri Udupi Bhojana</td>\n",
       "      <td>No</td>\n",
       "      <td>No</td>\n",
       "      <td>3.7</td>\n",
       "      <td>88</td>\n",
       "      <td>Banashankari</td>\n",
       "      <td>Quick Bites</td>\n",
       "      <td>South Indian, North Indian</td>\n",
       "      <td>300</td>\n",
       "      <td>Buffet</td>\n",
       "      <td>Banashankari</td>\n",
       "    </tr>\n",
       "    <tr>\n",
       "      <th>4</th>\n",
       "      <td>Grand Village</td>\n",
       "      <td>No</td>\n",
       "      <td>No</td>\n",
       "      <td>3.8</td>\n",
       "      <td>166</td>\n",
       "      <td>Basavanagudi</td>\n",
       "      <td>Casual Dining</td>\n",
       "      <td>North Indian, Rajasthani</td>\n",
       "      <td>600</td>\n",
       "      <td>Buffet</td>\n",
       "      <td>Banashankari</td>\n",
       "    </tr>\n",
       "  </tbody>\n",
       "</table>\n",
       "</div>"
      ],
      "text/plain": [
       "                    name online_order book_table  rate  votes      location  \\\n",
       "0                  Jalsa          Yes        Yes   4.1    775  Banashankari   \n",
       "1         Spice Elephant          Yes         No   4.1    787  Banashankari   \n",
       "2        San Churro Cafe          Yes         No   3.8    918  Banashankari   \n",
       "3  Addhuri Udupi Bhojana           No         No   3.7     88  Banashankari   \n",
       "4          Grand Village           No         No   3.8    166  Basavanagudi   \n",
       "\n",
       "             rest_type                        cuisines Cost2plates    Type  \\\n",
       "0        Casual Dining  North Indian, Mughlai, Chinese         800  Buffet   \n",
       "1        Casual Dining     Chinese, North Indian, Thai         800  Buffet   \n",
       "2  Cafe, Casual Dining          Cafe, Mexican, Italian         800  Buffet   \n",
       "3          Quick Bites      South Indian, North Indian         300  Buffet   \n",
       "4        Casual Dining        North Indian, Rajasthani         600  Buffet   \n",
       "\n",
       "  listed_in(city)  \n",
       "0    Banashankari  \n",
       "1    Banashankari  \n",
       "2    Banashankari  \n",
       "3    Banashankari  \n",
       "4    Banashankari  "
      ]
     },
     "execution_count": 79,
     "metadata": {},
     "output_type": "execute_result"
    }
   ],
   "source": [
    "df.rename(columns = {'approx_cost(for two people)':'Cost2plates', 'listed_in(type)':'Type'}, inplace = True)\n",
    "df.head()"
   ]
  },
  {
   "cell_type": "code",
   "execution_count": 80,
   "metadata": {
    "execution": {
     "iopub.execute_input": "2021-06-01T09:33:32.198967Z",
     "iopub.status.busy": "2021-06-01T09:33:32.198096Z",
     "iopub.status.idle": "2021-06-01T09:33:32.214787Z",
     "shell.execute_reply": "2021-06-01T09:33:32.213733Z",
     "shell.execute_reply.started": "2021-06-01T09:33:32.198921Z"
    }
   },
   "outputs": [
    {
     "data": {
      "text/plain": [
       "array(['Banashankari', 'Basavanagudi', 'Mysore Road', 'Jayanagar',\n",
       "       'Kumaraswamy Layout', 'Rajarajeshwari Nagar', 'Vijay Nagar',\n",
       "       'Uttarahalli', 'JP Nagar', 'South Bangalore', 'City Market',\n",
       "       'Nagarbhavi', 'Bannerghatta Road', 'BTM', 'Kanakapura Road',\n",
       "       'Bommanahalli', 'CV Raman Nagar', 'Electronic City', 'HSR',\n",
       "       'Marathahalli', 'Wilson Garden', 'Shanti Nagar',\n",
       "       'Koramangala 5th Block', 'Koramangala 8th Block', 'Richmond Road',\n",
       "       'Koramangala 7th Block', 'Jalahalli', 'Koramangala 4th Block',\n",
       "       'Bellandur', 'Sarjapur Road', 'Whitefield', 'East Bangalore',\n",
       "       'Old Airport Road', 'Indiranagar', 'Koramangala 1st Block',\n",
       "       'Frazer Town', 'RT Nagar', 'MG Road', 'Brigade Road',\n",
       "       'Lavelle Road', 'Church Street', 'Ulsoor', 'Residency Road',\n",
       "       'Shivajinagar', 'Infantry Road', 'St. Marks Road',\n",
       "       'Cunningham Road', 'Race Course Road', 'Commercial Street',\n",
       "       'Vasanth Nagar', 'HBR Layout', 'Domlur', 'Ejipura',\n",
       "       'Jeevan Bhima Nagar', 'Old Madras Road', 'Malleshwaram',\n",
       "       'Seshadripuram', 'Kammanahalli', 'Koramangala 6th Block',\n",
       "       'Majestic', 'Langford Town', 'Central Bangalore', 'Sanjay Nagar',\n",
       "       'Brookefield', 'ITPL Main Road, Whitefield',\n",
       "       'Varthur Main Road, Whitefield', 'KR Puram',\n",
       "       'Koramangala 2nd Block', 'Koramangala 3rd Block', 'Koramangala',\n",
       "       'Hosur Road', 'Rajajinagar', 'Banaswadi', 'North Bangalore',\n",
       "       'Nagawara', 'Hennur', 'Kalyan Nagar', 'New BEL Road', 'Jakkur',\n",
       "       'Rammurthy Nagar', 'Thippasandra', 'Kaggadasapura', 'Hebbal',\n",
       "       'Kengeri', 'Sankey Road', 'Sadashiv Nagar', 'Basaveshwara Nagar',\n",
       "       'Yeshwantpur', 'West Bangalore', 'Magadi Road', 'Yelahanka',\n",
       "       'Sahakara Nagar', 'Peenya'], dtype=object)"
      ]
     },
     "execution_count": 80,
     "metadata": {},
     "output_type": "execute_result"
    }
   ],
   "source": [
    "df['location'].unique()"
   ]
  },
  {
   "cell_type": "code",
   "execution_count": 81,
   "metadata": {
    "execution": {
     "iopub.execute_input": "2021-06-01T09:33:32.217259Z",
     "iopub.status.busy": "2021-06-01T09:33:32.216891Z",
     "iopub.status.idle": "2021-06-01T09:33:32.243144Z",
     "shell.execute_reply": "2021-06-01T09:33:32.24212Z",
     "shell.execute_reply.started": "2021-06-01T09:33:32.217217Z"
    }
   },
   "outputs": [
    {
     "data": {
      "text/plain": [
       "array(['Banashankari', 'Bannerghatta Road', 'Basavanagudi', 'Bellandur',\n",
       "       'Brigade Road', 'Brookefield', 'BTM', 'Church Street',\n",
       "       'Electronic City', 'Frazer Town', 'HSR', 'Indiranagar',\n",
       "       'Jayanagar', 'JP Nagar', 'Kalyan Nagar', 'Kammanahalli',\n",
       "       'Koramangala 4th Block', 'Koramangala 5th Block',\n",
       "       'Koramangala 6th Block', 'Koramangala 7th Block', 'Lavelle Road',\n",
       "       'Malleshwaram', 'Marathahalli', 'MG Road', 'New BEL Road',\n",
       "       'Old Airport Road', 'Rajajinagar', 'Residency Road',\n",
       "       'Sarjapur Road', 'Whitefield'], dtype=object)"
      ]
     },
     "execution_count": 81,
     "metadata": {},
     "output_type": "execute_result"
    }
   ],
   "source": [
    "df['listed_in(city)'].unique()"
   ]
  },
  {
   "cell_type": "markdown",
   "metadata": {},
   "source": [
    "## Listed in(city) and location, both are there, lets keep only one."
   ]
  },
  {
   "cell_type": "code",
   "execution_count": 82,
   "metadata": {
    "execution": {
     "iopub.execute_input": "2021-06-01T09:33:32.244724Z",
     "iopub.status.busy": "2021-06-01T09:33:32.244379Z",
     "iopub.status.idle": "2021-06-01T09:33:32.262804Z",
     "shell.execute_reply": "2021-06-01T09:33:32.261792Z",
     "shell.execute_reply.started": "2021-06-01T09:33:32.244674Z"
    }
   },
   "outputs": [
    {
     "data": {
      "text/html": [
       "<div>\n",
       "<style scoped>\n",
       "    .dataframe tbody tr th:only-of-type {\n",
       "        vertical-align: middle;\n",
       "    }\n",
       "\n",
       "    .dataframe tbody tr th {\n",
       "        vertical-align: top;\n",
       "    }\n",
       "\n",
       "    .dataframe thead th {\n",
       "        text-align: right;\n",
       "    }\n",
       "</style>\n",
       "<table border=\"1\" class=\"dataframe\">\n",
       "  <thead>\n",
       "    <tr style=\"text-align: right;\">\n",
       "      <th></th>\n",
       "      <th>name</th>\n",
       "      <th>online_order</th>\n",
       "      <th>book_table</th>\n",
       "      <th>rate</th>\n",
       "      <th>votes</th>\n",
       "      <th>location</th>\n",
       "      <th>rest_type</th>\n",
       "      <th>cuisines</th>\n",
       "      <th>Cost2plates</th>\n",
       "      <th>Type</th>\n",
       "    </tr>\n",
       "  </thead>\n",
       "  <tbody>\n",
       "    <tr>\n",
       "      <th>0</th>\n",
       "      <td>Jalsa</td>\n",
       "      <td>Yes</td>\n",
       "      <td>Yes</td>\n",
       "      <td>4.1</td>\n",
       "      <td>775</td>\n",
       "      <td>Banashankari</td>\n",
       "      <td>Casual Dining</td>\n",
       "      <td>North Indian, Mughlai, Chinese</td>\n",
       "      <td>800</td>\n",
       "      <td>Buffet</td>\n",
       "    </tr>\n",
       "    <tr>\n",
       "      <th>1</th>\n",
       "      <td>Spice Elephant</td>\n",
       "      <td>Yes</td>\n",
       "      <td>No</td>\n",
       "      <td>4.1</td>\n",
       "      <td>787</td>\n",
       "      <td>Banashankari</td>\n",
       "      <td>Casual Dining</td>\n",
       "      <td>Chinese, North Indian, Thai</td>\n",
       "      <td>800</td>\n",
       "      <td>Buffet</td>\n",
       "    </tr>\n",
       "    <tr>\n",
       "      <th>2</th>\n",
       "      <td>San Churro Cafe</td>\n",
       "      <td>Yes</td>\n",
       "      <td>No</td>\n",
       "      <td>3.8</td>\n",
       "      <td>918</td>\n",
       "      <td>Banashankari</td>\n",
       "      <td>Cafe, Casual Dining</td>\n",
       "      <td>Cafe, Mexican, Italian</td>\n",
       "      <td>800</td>\n",
       "      <td>Buffet</td>\n",
       "    </tr>\n",
       "    <tr>\n",
       "      <th>3</th>\n",
       "      <td>Addhuri Udupi Bhojana</td>\n",
       "      <td>No</td>\n",
       "      <td>No</td>\n",
       "      <td>3.7</td>\n",
       "      <td>88</td>\n",
       "      <td>Banashankari</td>\n",
       "      <td>Quick Bites</td>\n",
       "      <td>South Indian, North Indian</td>\n",
       "      <td>300</td>\n",
       "      <td>Buffet</td>\n",
       "    </tr>\n",
       "    <tr>\n",
       "      <th>4</th>\n",
       "      <td>Grand Village</td>\n",
       "      <td>No</td>\n",
       "      <td>No</td>\n",
       "      <td>3.8</td>\n",
       "      <td>166</td>\n",
       "      <td>Basavanagudi</td>\n",
       "      <td>Casual Dining</td>\n",
       "      <td>North Indian, Rajasthani</td>\n",
       "      <td>600</td>\n",
       "      <td>Buffet</td>\n",
       "    </tr>\n",
       "  </tbody>\n",
       "</table>\n",
       "</div>"
      ],
      "text/plain": [
       "                    name online_order book_table  rate  votes      location  \\\n",
       "0                  Jalsa          Yes        Yes   4.1    775  Banashankari   \n",
       "1         Spice Elephant          Yes         No   4.1    787  Banashankari   \n",
       "2        San Churro Cafe          Yes         No   3.8    918  Banashankari   \n",
       "3  Addhuri Udupi Bhojana           No         No   3.7     88  Banashankari   \n",
       "4          Grand Village           No         No   3.8    166  Basavanagudi   \n",
       "\n",
       "             rest_type                        cuisines Cost2plates    Type  \n",
       "0        Casual Dining  North Indian, Mughlai, Chinese         800  Buffet  \n",
       "1        Casual Dining     Chinese, North Indian, Thai         800  Buffet  \n",
       "2  Cafe, Casual Dining          Cafe, Mexican, Italian         800  Buffet  \n",
       "3          Quick Bites      South Indian, North Indian         300  Buffet  \n",
       "4        Casual Dining        North Indian, Rajasthani         600  Buffet  "
      ]
     },
     "execution_count": 82,
     "metadata": {},
     "output_type": "execute_result"
    }
   ],
   "source": [
    "df = df.drop(['listed_in(city)'], axis = 1)\n",
    "df.head()"
   ]
  },
  {
   "cell_type": "code",
   "execution_count": 83,
   "metadata": {
    "execution": {
     "iopub.execute_input": "2021-06-01T09:33:32.266389Z",
     "iopub.status.busy": "2021-06-01T09:33:32.264842Z",
     "iopub.status.idle": "2021-06-01T09:33:32.284399Z",
     "shell.execute_reply": "2021-06-01T09:33:32.282679Z",
     "shell.execute_reply.started": "2021-06-01T09:33:32.266325Z"
    }
   },
   "outputs": [
    {
     "data": {
      "text/plain": [
       "array(['800', '300', '600', '700', '550', '500', '450', '650', '400',\n",
       "       '900', '200', '750', '150', '850', '100', '1,200', '350', '250',\n",
       "       '950', '1,000', '1,500', '1,300', '199', '80', '1,100', '160',\n",
       "       '1,600', '230', '130', '50', '190', '1,700', '1,400', '180',\n",
       "       '1,350', '2,200', '2,000', '1,800', '1,900', '330', '2,500',\n",
       "       '2,100', '3,000', '2,800', '3,400', '40', '1,250', '3,500',\n",
       "       '4,000', '2,400', '2,600', '120', '1,450', '469', '70', '3,200',\n",
       "       '60', '560', '240', '360', '6,000', '1,050', '2,300', '4,100',\n",
       "       '5,000', '3,700', '1,650', '2,700', '4,500', '140'], dtype=object)"
      ]
     },
     "execution_count": 83,
     "metadata": {},
     "output_type": "execute_result"
    }
   ],
   "source": [
    "df['Cost2plates'].unique()"
   ]
  },
  {
   "cell_type": "markdown",
   "metadata": {},
   "source": [
    "## Removing , from Cost2Plates Column"
   ]
  },
  {
   "cell_type": "code",
   "execution_count": 84,
   "metadata": {
    "execution": {
     "iopub.execute_input": "2021-06-01T09:33:32.287588Z",
     "iopub.status.busy": "2021-06-01T09:33:32.287076Z",
     "iopub.status.idle": "2021-06-01T09:33:32.352844Z",
     "shell.execute_reply": "2021-06-01T09:33:32.351108Z",
     "shell.execute_reply.started": "2021-06-01T09:33:32.287539Z"
    }
   },
   "outputs": [
    {
     "data": {
      "text/plain": [
       "array([ 800.,  300.,  600.,  700.,  550.,  500.,  450.,  650.,  400.,\n",
       "        900.,  200.,  750.,  150.,  850.,  100., 1200.,  350.,  250.,\n",
       "        950., 1000., 1500., 1300.,  199.,   80., 1100.,  160., 1600.,\n",
       "        230.,  130.,   50.,  190., 1700., 1400.,  180., 1350., 2200.,\n",
       "       2000., 1800., 1900.,  330., 2500., 2100., 3000., 2800., 3400.,\n",
       "         40., 1250., 3500., 4000., 2400., 2600.,  120., 1450.,  469.,\n",
       "         70., 3200.,   60.,  560.,  240.,  360., 6000., 1050., 2300.,\n",
       "       4100., 5000., 3700., 1650., 2700., 4500.,  140.])"
      ]
     },
     "execution_count": 84,
     "metadata": {},
     "output_type": "execute_result"
    }
   ],
   "source": [
    "def handlecomma(value):\n",
    "    value = str(value)\n",
    "    if ',' in value:\n",
    "        value = value.replace(',', '')\n",
    "        return float(value)\n",
    "    else:\n",
    "        return float(value)\n",
    "    \n",
    "df['Cost2plates'] = df['Cost2plates'].apply(handlecomma)\n",
    "df['Cost2plates'].unique()\n",
    "        "
   ]
  },
  {
   "cell_type": "code",
   "execution_count": 19,
   "metadata": {
    "execution": {
     "iopub.execute_input": "2021-06-01T09:33:32.356213Z",
     "iopub.status.busy": "2021-06-01T09:33:32.35552Z",
     "iopub.status.idle": "2021-06-01T09:33:32.379854Z",
     "shell.execute_reply": "2021-06-01T09:33:32.378081Z",
     "shell.execute_reply.started": "2021-06-01T09:33:32.356154Z"
    }
   },
   "outputs": [
    {
     "data": {
      "text/html": [
       "<div>\n",
       "<style scoped>\n",
       "    .dataframe tbody tr th:only-of-type {\n",
       "        vertical-align: middle;\n",
       "    }\n",
       "\n",
       "    .dataframe tbody tr th {\n",
       "        vertical-align: top;\n",
       "    }\n",
       "\n",
       "    .dataframe thead th {\n",
       "        text-align: right;\n",
       "    }\n",
       "</style>\n",
       "<table border=\"1\" class=\"dataframe\">\n",
       "  <thead>\n",
       "    <tr style=\"text-align: right;\">\n",
       "      <th></th>\n",
       "      <th>name</th>\n",
       "      <th>online_order</th>\n",
       "      <th>book_table</th>\n",
       "      <th>rate</th>\n",
       "      <th>votes</th>\n",
       "      <th>location</th>\n",
       "      <th>rest_type</th>\n",
       "      <th>cuisines</th>\n",
       "      <th>Cost2plates</th>\n",
       "      <th>Type</th>\n",
       "    </tr>\n",
       "  </thead>\n",
       "  <tbody>\n",
       "    <tr>\n",
       "      <th>0</th>\n",
       "      <td>Jalsa</td>\n",
       "      <td>Yes</td>\n",
       "      <td>Yes</td>\n",
       "      <td>4.1</td>\n",
       "      <td>775</td>\n",
       "      <td>Banashankari</td>\n",
       "      <td>Casual Dining</td>\n",
       "      <td>North Indian, Mughlai, Chinese</td>\n",
       "      <td>800.0</td>\n",
       "      <td>Buffet</td>\n",
       "    </tr>\n",
       "    <tr>\n",
       "      <th>1</th>\n",
       "      <td>Spice Elephant</td>\n",
       "      <td>Yes</td>\n",
       "      <td>No</td>\n",
       "      <td>4.1</td>\n",
       "      <td>787</td>\n",
       "      <td>Banashankari</td>\n",
       "      <td>Casual Dining</td>\n",
       "      <td>Chinese, North Indian, Thai</td>\n",
       "      <td>800.0</td>\n",
       "      <td>Buffet</td>\n",
       "    </tr>\n",
       "    <tr>\n",
       "      <th>2</th>\n",
       "      <td>San Churro Cafe</td>\n",
       "      <td>Yes</td>\n",
       "      <td>No</td>\n",
       "      <td>3.8</td>\n",
       "      <td>918</td>\n",
       "      <td>Banashankari</td>\n",
       "      <td>Cafe, Casual Dining</td>\n",
       "      <td>Cafe, Mexican, Italian</td>\n",
       "      <td>800.0</td>\n",
       "      <td>Buffet</td>\n",
       "    </tr>\n",
       "    <tr>\n",
       "      <th>3</th>\n",
       "      <td>Addhuri Udupi Bhojana</td>\n",
       "      <td>No</td>\n",
       "      <td>No</td>\n",
       "      <td>3.7</td>\n",
       "      <td>88</td>\n",
       "      <td>Banashankari</td>\n",
       "      <td>Quick Bites</td>\n",
       "      <td>South Indian, North Indian</td>\n",
       "      <td>300.0</td>\n",
       "      <td>Buffet</td>\n",
       "    </tr>\n",
       "    <tr>\n",
       "      <th>4</th>\n",
       "      <td>Grand Village</td>\n",
       "      <td>No</td>\n",
       "      <td>No</td>\n",
       "      <td>3.8</td>\n",
       "      <td>166</td>\n",
       "      <td>Basavanagudi</td>\n",
       "      <td>Casual Dining</td>\n",
       "      <td>North Indian, Rajasthani</td>\n",
       "      <td>600.0</td>\n",
       "      <td>Buffet</td>\n",
       "    </tr>\n",
       "  </tbody>\n",
       "</table>\n",
       "</div>"
      ],
      "text/plain": [
       "                    name online_order book_table  rate  votes      location  \\\n",
       "0                  Jalsa          Yes        Yes   4.1    775  Banashankari   \n",
       "1         Spice Elephant          Yes         No   4.1    787  Banashankari   \n",
       "2        San Churro Cafe          Yes         No   3.8    918  Banashankari   \n",
       "3  Addhuri Udupi Bhojana           No         No   3.7     88  Banashankari   \n",
       "4          Grand Village           No         No   3.8    166  Basavanagudi   \n",
       "\n",
       "             rest_type                        cuisines  Cost2plates    Type  \n",
       "0        Casual Dining  North Indian, Mughlai, Chinese        800.0  Buffet  \n",
       "1        Casual Dining     Chinese, North Indian, Thai        800.0  Buffet  \n",
       "2  Cafe, Casual Dining          Cafe, Mexican, Italian        800.0  Buffet  \n",
       "3          Quick Bites      South Indian, North Indian        300.0  Buffet  \n",
       "4        Casual Dining        North Indian, Rajasthani        600.0  Buffet  "
      ]
     },
     "execution_count": 19,
     "metadata": {},
     "output_type": "execute_result"
    }
   ],
   "source": [
    "df.head()"
   ]
  },
  {
   "cell_type": "markdown",
   "metadata": {},
   "source": [
    "## Cleaning Rest Type Column"
   ]
  },
  {
   "cell_type": "code",
   "execution_count": 85,
   "metadata": {},
   "outputs": [
    {
     "data": {
      "text/plain": [
       "Quick Bites                   19010\n",
       "Casual Dining                 10253\n",
       "Cafe                           3682\n",
       "Delivery                       2574\n",
       "Dessert Parlor                 2242\n",
       "                              ...  \n",
       "Dessert Parlor, Kiosk             2\n",
       "Food Court, Beverage Shop         2\n",
       "Dessert Parlor, Food Court        2\n",
       "Quick Bites, Kiosk                1\n",
       "Sweet Shop, Dessert Parlor        1\n",
       "Name: rest_type, Length: 93, dtype: int64"
      ]
     },
     "execution_count": 85,
     "metadata": {},
     "output_type": "execute_result"
    }
   ],
   "source": [
    "df['rest_type'].value_counts()"
   ]
  },
  {
   "cell_type": "code",
   "execution_count": 86,
   "metadata": {
    "execution": {
     "iopub.execute_input": "2021-06-01T09:33:32.382453Z",
     "iopub.status.busy": "2021-06-01T09:33:32.381888Z",
     "iopub.status.idle": "2021-06-01T09:33:32.417647Z",
     "shell.execute_reply": "2021-06-01T09:33:32.416435Z",
     "shell.execute_reply.started": "2021-06-01T09:33:32.382399Z"
    }
   },
   "outputs": [
    {
     "data": {
      "text/plain": [
       "Quick Bites                   19010\n",
       "Casual Dining                 10253\n",
       "Cafe                           3682\n",
       "Delivery                       2574\n",
       "Dessert Parlor                 2242\n",
       "                              ...  \n",
       "Dessert Parlor, Kiosk             2\n",
       "Food Court, Beverage Shop         2\n",
       "Dessert Parlor, Food Court        2\n",
       "Quick Bites, Kiosk                1\n",
       "Sweet Shop, Dessert Parlor        1\n",
       "Name: rest_type, Length: 93, dtype: int64"
      ]
     },
     "execution_count": 86,
     "metadata": {},
     "output_type": "execute_result"
    }
   ],
   "source": [
    "rest_types = df['rest_type'].value_counts(ascending  = False)\n",
    "rest_types"
   ]
  },
  {
   "cell_type": "code",
   "execution_count": 87,
   "metadata": {
    "execution": {
     "iopub.execute_input": "2021-06-01T09:33:32.419264Z",
     "iopub.status.busy": "2021-06-01T09:33:32.418969Z",
     "iopub.status.idle": "2021-06-01T09:33:32.437573Z",
     "shell.execute_reply": "2021-06-01T09:33:32.436854Z",
     "shell.execute_reply.started": "2021-06-01T09:33:32.419234Z"
    }
   },
   "outputs": [
    {
     "data": {
      "text/plain": [
       "Beverage Shop                 863\n",
       "Bar                           686\n",
       "Food Court                    616\n",
       "Sweet Shop                    468\n",
       "Bar, Casual Dining            411\n",
       "                             ... \n",
       "Dessert Parlor, Kiosk           2\n",
       "Food Court, Beverage Shop       2\n",
       "Dessert Parlor, Food Court      2\n",
       "Quick Bites, Kiosk              1\n",
       "Sweet Shop, Dessert Parlor      1\n",
       "Name: rest_type, Length: 85, dtype: int64"
      ]
     },
     "execution_count": 87,
     "metadata": {},
     "output_type": "execute_result"
    }
   ],
   "source": [
    "rest_types_lessthan1000 = rest_types[rest_types<1000]\n",
    "rest_types_lessthan1000"
   ]
  },
  {
   "cell_type": "markdown",
   "metadata": {},
   "source": [
    "## Making Rest Types less than 1000 in frequency as others"
   ]
  },
  {
   "cell_type": "code",
   "execution_count": 88,
   "metadata": {
    "execution": {
     "iopub.execute_input": "2021-06-01T09:33:32.438899Z",
     "iopub.status.busy": "2021-06-01T09:33:32.438562Z",
     "iopub.status.idle": "2021-06-01T09:33:32.556194Z",
     "shell.execute_reply": "2021-06-01T09:33:32.555118Z",
     "shell.execute_reply.started": "2021-06-01T09:33:32.438869Z"
    }
   },
   "outputs": [
    {
     "data": {
      "text/plain": [
       "Quick Bites           19010\n",
       "Casual Dining         10253\n",
       "others                 9003\n",
       "Cafe                   3682\n",
       "Delivery               2574\n",
       "Dessert Parlor         2242\n",
       "Takeaway, Delivery     2008\n",
       "Bakery                 1140\n",
       "Casual Dining, Bar     1130\n",
       "Name: rest_type, dtype: int64"
      ]
     },
     "execution_count": 88,
     "metadata": {},
     "output_type": "execute_result"
    }
   ],
   "source": [
    "def handle_rest_type(value):\n",
    "    if(value in rest_types_lessthan1000):\n",
    "        return 'others'\n",
    "    else:\n",
    "        return value\n",
    "        \n",
    "df['rest_type'] = df['rest_type'].apply(handle_rest_type)\n",
    "df['rest_type'].value_counts()\n",
    "        "
   ]
  },
  {
   "cell_type": "markdown",
   "metadata": {},
   "source": [
    "## Cleaning Location Column"
   ]
  },
  {
   "cell_type": "code",
   "execution_count": 89,
   "metadata": {},
   "outputs": [
    {
     "data": {
      "text/plain": [
       "BTM                      5056\n",
       "HSR                      2494\n",
       "Koramangala 5th Block    2479\n",
       "JP Nagar                 2218\n",
       "Whitefield               2105\n",
       "                         ... \n",
       "West Bangalore              6\n",
       "Yelahanka                   5\n",
       "Jakkur                      3\n",
       "Rajarajeshwari Nagar        2\n",
       "Peenya                      1\n",
       "Name: location, Length: 93, dtype: int64"
      ]
     },
     "execution_count": 89,
     "metadata": {},
     "output_type": "execute_result"
    }
   ],
   "source": [
    "df['location'].value_counts()"
   ]
  },
  {
   "cell_type": "code",
   "execution_count": 90,
   "metadata": {
    "execution": {
     "iopub.execute_input": "2021-06-01T09:33:32.557811Z",
     "iopub.status.busy": "2021-06-01T09:33:32.557451Z",
     "iopub.status.idle": "2021-06-01T09:33:32.673197Z",
     "shell.execute_reply": "2021-06-01T09:33:32.671853Z",
     "shell.execute_reply.started": "2021-06-01T09:33:32.557779Z"
    }
   },
   "outputs": [
    {
     "data": {
      "text/plain": [
       "BTM                      5056\n",
       "others                   4954\n",
       "HSR                      2494\n",
       "Koramangala 5th Block    2479\n",
       "JP Nagar                 2218\n",
       "Whitefield               2105\n",
       "Indiranagar              2026\n",
       "Jayanagar                1916\n",
       "Marathahalli             1805\n",
       "Bannerghatta Road        1609\n",
       "Bellandur                1268\n",
       "Electronic City          1246\n",
       "Koramangala 1st Block    1236\n",
       "Brigade Road             1210\n",
       "Koramangala 7th Block    1174\n",
       "Koramangala 6th Block    1127\n",
       "Sarjapur Road            1047\n",
       "Koramangala 4th Block    1017\n",
       "Ulsoor                   1011\n",
       "Banashankari              902\n",
       "MG Road                   893\n",
       "Kalyan Nagar              841\n",
       "Richmond Road             803\n",
       "Malleshwaram              721\n",
       "Frazer Town               714\n",
       "Basavanagudi              684\n",
       "Residency Road            671\n",
       "Brookefield               656\n",
       "New BEL Road              644\n",
       "Banaswadi                 640\n",
       "Kammanahalli              639\n",
       "Rajajinagar               591\n",
       "Church Street             566\n",
       "Lavelle Road              518\n",
       "Shanti Nagar              508\n",
       "Shivajinagar              498\n",
       "Cunningham Road           490\n",
       "Domlur                    482\n",
       "Old Airport Road          437\n",
       "Ejipura                   433\n",
       "Commercial Street         370\n",
       "St. Marks Road            343\n",
       "Name: location, dtype: int64"
      ]
     },
     "execution_count": 90,
     "metadata": {},
     "output_type": "execute_result"
    }
   ],
   "source": [
    "location = df['location'].value_counts(ascending  = False)\n",
    "\n",
    "location_lessthan300 = location[location<300]\n",
    "\n",
    "\n",
    "\n",
    "def handle_location(value):\n",
    "    if(value in location_lessthan300):\n",
    "        return 'others'\n",
    "    else:\n",
    "        return value\n",
    "        \n",
    "df['location'] = df['location'].apply(handle_location)\n",
    "df['location'].value_counts()"
   ]
  },
  {
   "cell_type": "markdown",
   "metadata": {},
   "source": [
    "## Cleaning Cuisines Column"
   ]
  },
  {
   "cell_type": "code",
   "execution_count": 91,
   "metadata": {},
   "outputs": [
    {
     "data": {
      "text/plain": [
       "North Indian                                2852\n",
       "North Indian, Chinese                       2351\n",
       "South Indian                                1820\n",
       "Biryani                                      903\n",
       "Bakery, Desserts                             898\n",
       "                                            ... \n",
       "North Indian, Chinese, Oriya, Mithai           1\n",
       "Beverages, Burger                              1\n",
       "North Indian, Mughlai, Lucknowi                1\n",
       "Continental, Thai, North Indian, Chinese       1\n",
       "North Indian, Chinese, Arabian, Momos          1\n",
       "Name: cuisines, Length: 2704, dtype: int64"
      ]
     },
     "execution_count": 91,
     "metadata": {},
     "output_type": "execute_result"
    }
   ],
   "source": [
    "df['cuisines'].value_counts()"
   ]
  },
  {
   "cell_type": "code",
   "execution_count": 92,
   "metadata": {
    "execution": {
     "iopub.execute_input": "2021-06-01T09:33:32.678845Z",
     "iopub.status.busy": "2021-06-01T09:33:32.678474Z",
     "iopub.status.idle": "2021-06-01T09:33:32.801248Z",
     "shell.execute_reply": "2021-06-01T09:33:32.799868Z",
     "shell.execute_reply.started": "2021-06-01T09:33:32.678811Z"
    }
   },
   "outputs": [
    {
     "data": {
      "text/plain": [
       "others                                 26159\n",
       "North Indian                            2852\n",
       "North Indian, Chinese                   2351\n",
       "South Indian                            1820\n",
       "Biryani                                  903\n",
       "                                       ...  \n",
       "South Indian, Chinese, North Indian      105\n",
       "North Indian, Mughlai, Chinese           104\n",
       "South Indian, Fast Food                  104\n",
       "Italian, Pizza                           102\n",
       "North Indian, Chinese, Seafood           102\n",
       "Name: cuisines, Length: 70, dtype: int64"
      ]
     },
     "execution_count": 92,
     "metadata": {},
     "output_type": "execute_result"
    }
   ],
   "source": [
    "cuisines = df['cuisines'].value_counts(ascending  = False)\n",
    "\n",
    "\n",
    "cuisines_lessthan100 = cuisines[cuisines<100]\n",
    "\n",
    "\n",
    "\n",
    "def handle_cuisines(value):\n",
    "    if(value in cuisines_lessthan100):\n",
    "        return 'others'\n",
    "    else:\n",
    "        return value\n",
    "        \n",
    "df['cuisines'] = df['cuisines'].apply(handle_cuisines)\n",
    "df['cuisines'].value_counts()\n"
   ]
  },
  {
   "cell_type": "code",
   "execution_count": 93,
   "metadata": {
    "execution": {
     "iopub.execute_input": "2021-06-01T09:33:32.805181Z",
     "iopub.status.busy": "2021-06-01T09:33:32.804476Z",
     "iopub.status.idle": "2021-06-01T09:33:32.825438Z",
     "shell.execute_reply": "2021-06-01T09:33:32.824208Z",
     "shell.execute_reply.started": "2021-06-01T09:33:32.80498Z"
    }
   },
   "outputs": [
    {
     "data": {
      "text/html": [
       "<div>\n",
       "<style scoped>\n",
       "    .dataframe tbody tr th:only-of-type {\n",
       "        vertical-align: middle;\n",
       "    }\n",
       "\n",
       "    .dataframe tbody tr th {\n",
       "        vertical-align: top;\n",
       "    }\n",
       "\n",
       "    .dataframe thead th {\n",
       "        text-align: right;\n",
       "    }\n",
       "</style>\n",
       "<table border=\"1\" class=\"dataframe\">\n",
       "  <thead>\n",
       "    <tr style=\"text-align: right;\">\n",
       "      <th></th>\n",
       "      <th>name</th>\n",
       "      <th>online_order</th>\n",
       "      <th>book_table</th>\n",
       "      <th>rate</th>\n",
       "      <th>votes</th>\n",
       "      <th>location</th>\n",
       "      <th>rest_type</th>\n",
       "      <th>cuisines</th>\n",
       "      <th>Cost2plates</th>\n",
       "      <th>Type</th>\n",
       "    </tr>\n",
       "  </thead>\n",
       "  <tbody>\n",
       "    <tr>\n",
       "      <th>0</th>\n",
       "      <td>Jalsa</td>\n",
       "      <td>Yes</td>\n",
       "      <td>Yes</td>\n",
       "      <td>4.1</td>\n",
       "      <td>775</td>\n",
       "      <td>Banashankari</td>\n",
       "      <td>Casual Dining</td>\n",
       "      <td>North Indian, Mughlai, Chinese</td>\n",
       "      <td>800.0</td>\n",
       "      <td>Buffet</td>\n",
       "    </tr>\n",
       "    <tr>\n",
       "      <th>1</th>\n",
       "      <td>Spice Elephant</td>\n",
       "      <td>Yes</td>\n",
       "      <td>No</td>\n",
       "      <td>4.1</td>\n",
       "      <td>787</td>\n",
       "      <td>Banashankari</td>\n",
       "      <td>Casual Dining</td>\n",
       "      <td>others</td>\n",
       "      <td>800.0</td>\n",
       "      <td>Buffet</td>\n",
       "    </tr>\n",
       "    <tr>\n",
       "      <th>2</th>\n",
       "      <td>San Churro Cafe</td>\n",
       "      <td>Yes</td>\n",
       "      <td>No</td>\n",
       "      <td>3.8</td>\n",
       "      <td>918</td>\n",
       "      <td>Banashankari</td>\n",
       "      <td>others</td>\n",
       "      <td>others</td>\n",
       "      <td>800.0</td>\n",
       "      <td>Buffet</td>\n",
       "    </tr>\n",
       "    <tr>\n",
       "      <th>3</th>\n",
       "      <td>Addhuri Udupi Bhojana</td>\n",
       "      <td>No</td>\n",
       "      <td>No</td>\n",
       "      <td>3.7</td>\n",
       "      <td>88</td>\n",
       "      <td>Banashankari</td>\n",
       "      <td>Quick Bites</td>\n",
       "      <td>South Indian, North Indian</td>\n",
       "      <td>300.0</td>\n",
       "      <td>Buffet</td>\n",
       "    </tr>\n",
       "    <tr>\n",
       "      <th>4</th>\n",
       "      <td>Grand Village</td>\n",
       "      <td>No</td>\n",
       "      <td>No</td>\n",
       "      <td>3.8</td>\n",
       "      <td>166</td>\n",
       "      <td>Basavanagudi</td>\n",
       "      <td>Casual Dining</td>\n",
       "      <td>others</td>\n",
       "      <td>600.0</td>\n",
       "      <td>Buffet</td>\n",
       "    </tr>\n",
       "  </tbody>\n",
       "</table>\n",
       "</div>"
      ],
      "text/plain": [
       "                    name online_order book_table  rate  votes      location  \\\n",
       "0                  Jalsa          Yes        Yes   4.1    775  Banashankari   \n",
       "1         Spice Elephant          Yes         No   4.1    787  Banashankari   \n",
       "2        San Churro Cafe          Yes         No   3.8    918  Banashankari   \n",
       "3  Addhuri Udupi Bhojana           No         No   3.7     88  Banashankari   \n",
       "4          Grand Village           No         No   3.8    166  Basavanagudi   \n",
       "\n",
       "       rest_type                        cuisines  Cost2plates    Type  \n",
       "0  Casual Dining  North Indian, Mughlai, Chinese        800.0  Buffet  \n",
       "1  Casual Dining                          others        800.0  Buffet  \n",
       "2         others                          others        800.0  Buffet  \n",
       "3    Quick Bites      South Indian, North Indian        300.0  Buffet  \n",
       "4  Casual Dining                          others        600.0  Buffet  "
      ]
     },
     "execution_count": 93,
     "metadata": {},
     "output_type": "execute_result"
    }
   ],
   "source": [
    "df.head()"
   ]
  },
  {
   "cell_type": "markdown",
   "metadata": {},
   "source": [
    "## **Data is Clean, Lets jump to Visualization**"
   ]
  },
  {
   "cell_type": "markdown",
   "metadata": {},
   "source": [
    "## Count Plot of Various Locations"
   ]
  },
  {
   "cell_type": "code",
   "execution_count": 94,
   "metadata": {
    "execution": {
     "iopub.execute_input": "2021-06-01T09:37:04.547529Z",
     "iopub.status.busy": "2021-06-01T09:37:04.547061Z",
     "iopub.status.idle": "2021-06-01T09:37:05.164014Z",
     "shell.execute_reply": "2021-06-01T09:37:05.162904Z",
     "shell.execute_reply.started": "2021-06-01T09:37:04.547494Z"
    }
   },
   "outputs": [
    {
     "name": "stderr",
     "output_type": "stream",
     "text": [
      "C:\\Users\\billi\\anaconda3\\lib\\site-packages\\seaborn\\_decorators.py:36: FutureWarning: Pass the following variable as a keyword arg: x. From version 0.12, the only valid positional argument will be `data`, and passing other arguments without an explicit keyword will result in an error or misinterpretation.\n",
      "  warnings.warn(\n"
     ]
    },
    {
     "data": {
      "text/plain": [
       "(array([ 0,  1,  2,  3,  4,  5,  6,  7,  8,  9, 10, 11, 12, 13, 14, 15, 16,\n",
       "        17, 18, 19, 20, 21, 22, 23, 24, 25, 26, 27, 28, 29, 30, 31, 32, 33,\n",
       "        34, 35, 36, 37, 38, 39, 40, 41]),\n",
       " [Text(0, 0, 'Banashankari'),\n",
       "  Text(1, 0, 'Basavanagudi'),\n",
       "  Text(2, 0, 'others'),\n",
       "  Text(3, 0, 'Jayanagar'),\n",
       "  Text(4, 0, 'JP Nagar'),\n",
       "  Text(5, 0, 'Bannerghatta Road'),\n",
       "  Text(6, 0, 'BTM'),\n",
       "  Text(7, 0, 'Electronic City'),\n",
       "  Text(8, 0, 'HSR'),\n",
       "  Text(9, 0, 'Marathahalli'),\n",
       "  Text(10, 0, 'Shanti Nagar'),\n",
       "  Text(11, 0, 'Koramangala 5th Block'),\n",
       "  Text(12, 0, 'Richmond Road'),\n",
       "  Text(13, 0, 'Koramangala 7th Block'),\n",
       "  Text(14, 0, 'Koramangala 4th Block'),\n",
       "  Text(15, 0, 'Bellandur'),\n",
       "  Text(16, 0, 'Sarjapur Road'),\n",
       "  Text(17, 0, 'Whitefield'),\n",
       "  Text(18, 0, 'Old Airport Road'),\n",
       "  Text(19, 0, 'Indiranagar'),\n",
       "  Text(20, 0, 'Koramangala 1st Block'),\n",
       "  Text(21, 0, 'Frazer Town'),\n",
       "  Text(22, 0, 'MG Road'),\n",
       "  Text(23, 0, 'Brigade Road'),\n",
       "  Text(24, 0, 'Lavelle Road'),\n",
       "  Text(25, 0, 'Church Street'),\n",
       "  Text(26, 0, 'Ulsoor'),\n",
       "  Text(27, 0, 'Residency Road'),\n",
       "  Text(28, 0, 'Shivajinagar'),\n",
       "  Text(29, 0, 'St. Marks Road'),\n",
       "  Text(30, 0, 'Cunningham Road'),\n",
       "  Text(31, 0, 'Commercial Street'),\n",
       "  Text(32, 0, 'Domlur'),\n",
       "  Text(33, 0, 'Ejipura'),\n",
       "  Text(34, 0, 'Malleshwaram'),\n",
       "  Text(35, 0, 'Kammanahalli'),\n",
       "  Text(36, 0, 'Koramangala 6th Block'),\n",
       "  Text(37, 0, 'Brookefield'),\n",
       "  Text(38, 0, 'Rajajinagar'),\n",
       "  Text(39, 0, 'Banaswadi'),\n",
       "  Text(40, 0, 'Kalyan Nagar'),\n",
       "  Text(41, 0, 'New BEL Road')])"
      ]
     },
     "execution_count": 94,
     "metadata": {},
     "output_type": "execute_result"
    },
    {
     "data": {
      "image/png": "[encoded data removed]",
      "text/plain": [
       "<Figure size 1152x720 with 1 Axes>"
      ]
     },
     "metadata": {},
     "output_type": "display_data"
    }
   ],
   "source": [
    "plt.figure(figsize = (16,10))\n",
    "ax = sns.countplot(df['location'])\n",
    "plt.xticks(rotation=90)"
   ]
  },
  {
   "cell_type": "markdown",
   "metadata": {},
   "source": [
    "## Visualizing Online Order"
   ]
  },
  {
   "cell_type": "code",
   "execution_count": 95,
   "metadata": {
    "execution": {
     "iopub.execute_input": "2021-06-01T09:33:33.426629Z",
     "iopub.status.busy": "2021-06-01T09:33:33.426316Z",
     "iopub.status.idle": "2021-06-01T09:33:33.61505Z",
     "shell.execute_reply": "2021-06-01T09:33:33.613507Z",
     "shell.execute_reply.started": "2021-06-01T09:33:33.426595Z"
    }
   },
   "outputs": [
    {
     "name": "stderr",
     "output_type": "stream",
     "text": [
      "C:\\Users\\billi\\anaconda3\\lib\\site-packages\\seaborn\\_decorators.py:36: FutureWarning: Pass the following variable as a keyword arg: x. From version 0.12, the only valid positional argument will be `data`, and passing other arguments without an explicit keyword will result in an error or misinterpretation.\n",
      "  warnings.warn(\n"
     ]
    },
    {
     "data": {
      "text/plain": [
       "<AxesSubplot:xlabel='online_order', ylabel='count'>"
      ]
     },
     "execution_count": 95,
     "metadata": {},
     "output_type": "execute_result"
    },
    {
     "data": {
      "image/png": "[encoded data removed]",
      "text/plain": [
       "<Figure size 432x432 with 1 Axes>"
      ]
     },
     "metadata": {},
     "output_type": "display_data"
    }
   ],
   "source": [
    "plt.figure(figsize = (6,6))\n",
    "sns.countplot(df['online_order'], palette = 'inferno')"
   ]
  },
  {
   "cell_type": "markdown",
   "metadata": {},
   "source": [
    "## Visualizing Book Table"
   ]
  },
  {
   "cell_type": "code",
   "execution_count": 96,
   "metadata": {
    "execution": {
     "iopub.execute_input": "2021-06-01T09:33:33.616832Z",
     "iopub.status.busy": "2021-06-01T09:33:33.61653Z",
     "iopub.status.idle": "2021-06-01T09:33:33.78761Z",
     "shell.execute_reply": "2021-06-01T09:33:33.786428Z",
     "shell.execute_reply.started": "2021-06-01T09:33:33.616802Z"
    }
   },
   "outputs": [
    {
     "name": "stderr",
     "output_type": "stream",
     "text": [
      "C:\\Users\\billi\\anaconda3\\lib\\site-packages\\seaborn\\_decorators.py:36: FutureWarning: Pass the following variable as a keyword arg: x. From version 0.12, the only valid positional argument will be `data`, and passing other arguments without an explicit keyword will result in an error or misinterpretation.\n",
      "  warnings.warn(\n"
     ]
    },
    {
     "data": {
      "text/plain": [
       "<AxesSubplot:xlabel='book_table', ylabel='count'>"
      ]
     },
     "execution_count": 96,
     "metadata": {},
     "output_type": "execute_result"
    },
    {
     "data": {
      "image/png": "[encoded data removed]",
      "text/plain": [
       "<Figure size 432x432 with 1 Axes>"
      ]
     },
     "metadata": {},
     "output_type": "display_data"
    }
   ],
   "source": [
    "plt.figure(figsize = (6,6))\n",
    "sns.countplot(df['book_table'], palette = 'rainbow')"
   ]
  },
  {
   "cell_type": "markdown",
   "metadata": {},
   "source": [
    "## Visualizing Online Order vs Rate"
   ]
  },
  {
   "cell_type": "code",
   "execution_count": 97,
   "metadata": {
    "execution": {
     "iopub.execute_input": "2021-06-01T09:33:33.790685Z",
     "iopub.status.busy": "2021-06-01T09:33:33.790128Z",
     "iopub.status.idle": "2021-06-01T09:33:34.297863Z",
     "shell.execute_reply": "2021-06-01T09:33:34.296631Z",
     "shell.execute_reply.started": "2021-06-01T09:33:33.790461Z"
    }
   },
   "outputs": [
    {
     "data": {
      "text/plain": [
       "<AxesSubplot:xlabel='online_order', ylabel='rate'>"
      ]
     },
     "execution_count": 97,
     "metadata": {},
     "output_type": "execute_result"
    },
    {
     "data": {
      "image/png": "[encoded data removed]",
      "text/plain": [
       "<Figure size 432x432 with 1 Axes>"
      ]
     },
     "metadata": {},
     "output_type": "display_data"
    }
   ],
   "source": [
    "plt.figure(figsize = (6,6))\n",
    "sns.boxplot(x = 'online_order', y = 'rate', data = df)"
   ]
  },
  {
   "cell_type": "markdown",
   "metadata": {},
   "source": [
    "## Visualizing Book Table vs Rate"
   ]
  },
  {
   "cell_type": "code",
   "execution_count": 98,
   "metadata": {
    "execution": {
     "iopub.execute_input": "2021-06-01T09:33:34.299547Z",
     "iopub.status.busy": "2021-06-01T09:33:34.299252Z",
     "iopub.status.idle": "2021-06-01T09:33:34.483811Z",
     "shell.execute_reply": "2021-06-01T09:33:34.482868Z",
     "shell.execute_reply.started": "2021-06-01T09:33:34.299515Z"
    }
   },
   "outputs": [
    {
     "data": {
      "text/plain": [
       "<AxesSubplot:xlabel='book_table', ylabel='rate'>"
      ]
     },
     "execution_count": 98,
     "metadata": {},
     "output_type": "execute_result"
    },
    {
     "data": {
      "image/png": "[encoded data removed]",
      "text/plain": [
       "<Figure size 432x432 with 1 Axes>"
      ]
     },
     "metadata": {},
     "output_type": "display_data"
    }
   ],
   "source": [
    "plt.figure(figsize = (6,6))\n",
    "sns.boxplot(x = 'book_table', y = 'rate', data = df)"
   ]
  },
  {
   "cell_type": "markdown",
   "metadata": {},
   "source": [
    "## Visualizing Online Order Facility, Location Wise"
   ]
  },
  {
   "cell_type": "code",
   "execution_count": 100,
   "metadata": {
    "execution": {
     "iopub.execute_input": "2021-06-01T09:33:34.485373Z",
     "iopub.status.busy": "2021-06-01T09:33:34.484941Z",
     "iopub.status.idle": "2021-06-01T09:33:34.535096Z",
     "shell.execute_reply": "2021-06-01T09:33:34.533501Z",
     "shell.execute_reply.started": "2021-06-01T09:33:34.485329Z"
    }
   },
   "outputs": [
    {
     "data": {
      "text/html": [
       "<div>\n",
       "<style scoped>\n",
       "    .dataframe tbody tr th:only-of-type {\n",
       "        vertical-align: middle;\n",
       "    }\n",
       "\n",
       "    .dataframe tbody tr th {\n",
       "        vertical-align: top;\n",
       "    }\n",
       "\n",
       "    .dataframe thead tr th {\n",
       "        text-align: left;\n",
       "    }\n",
       "\n",
       "    .dataframe thead tr:last-of-type th {\n",
       "        text-align: right;\n",
       "    }\n",
       "</style>\n",
       "<table border=\"1\" class=\"dataframe\">\n",
       "  <thead>\n",
       "    <tr>\n",
       "      <th></th>\n",
       "      <th colspan=\"2\" halign=\"left\">name</th>\n",
       "    </tr>\n",
       "    <tr>\n",
       "      <th>online_order</th>\n",
       "      <th>No</th>\n",
       "      <th>Yes</th>\n",
       "    </tr>\n",
       "    <tr>\n",
       "      <th>location</th>\n",
       "      <th></th>\n",
       "      <th></th>\n",
       "    </tr>\n",
       "  </thead>\n",
       "  <tbody>\n",
       "    <tr>\n",
       "      <th>BTM</th>\n",
       "      <td>1763</td>\n",
       "      <td>3293</td>\n",
       "    </tr>\n",
       "    <tr>\n",
       "      <th>Banashankari</th>\n",
       "      <td>397</td>\n",
       "      <td>505</td>\n",
       "    </tr>\n",
       "    <tr>\n",
       "      <th>Banaswadi</th>\n",
       "      <td>302</td>\n",
       "      <td>338</td>\n",
       "    </tr>\n",
       "    <tr>\n",
       "      <th>Bannerghatta Road</th>\n",
       "      <td>685</td>\n",
       "      <td>924</td>\n",
       "    </tr>\n",
       "    <tr>\n",
       "      <th>Basavanagudi</th>\n",
       "      <td>243</td>\n",
       "      <td>441</td>\n",
       "    </tr>\n",
       "    <tr>\n",
       "      <th>Bellandur</th>\n",
       "      <td>517</td>\n",
       "      <td>751</td>\n",
       "    </tr>\n",
       "    <tr>\n",
       "      <th>Brigade Road</th>\n",
       "      <td>552</td>\n",
       "      <td>658</td>\n",
       "    </tr>\n",
       "    <tr>\n",
       "      <th>Brookefield</th>\n",
       "      <td>239</td>\n",
       "      <td>417</td>\n",
       "    </tr>\n",
       "    <tr>\n",
       "      <th>Church Street</th>\n",
       "      <td>226</td>\n",
       "      <td>340</td>\n",
       "    </tr>\n",
       "    <tr>\n",
       "      <th>Commercial Street</th>\n",
       "      <td>228</td>\n",
       "      <td>142</td>\n",
       "    </tr>\n",
       "    <tr>\n",
       "      <th>Cunningham Road</th>\n",
       "      <td>168</td>\n",
       "      <td>322</td>\n",
       "    </tr>\n",
       "    <tr>\n",
       "      <th>Domlur</th>\n",
       "      <td>247</td>\n",
       "      <td>235</td>\n",
       "    </tr>\n",
       "    <tr>\n",
       "      <th>Ejipura</th>\n",
       "      <td>214</td>\n",
       "      <td>219</td>\n",
       "    </tr>\n",
       "    <tr>\n",
       "      <th>Electronic City</th>\n",
       "      <td>676</td>\n",
       "      <td>570</td>\n",
       "    </tr>\n",
       "    <tr>\n",
       "      <th>Frazer Town</th>\n",
       "      <td>287</td>\n",
       "      <td>427</td>\n",
       "    </tr>\n",
       "    <tr>\n",
       "      <th>HSR</th>\n",
       "      <td>584</td>\n",
       "      <td>1910</td>\n",
       "    </tr>\n",
       "    <tr>\n",
       "      <th>Indiranagar</th>\n",
       "      <td>697</td>\n",
       "      <td>1329</td>\n",
       "    </tr>\n",
       "    <tr>\n",
       "      <th>JP Nagar</th>\n",
       "      <td>911</td>\n",
       "      <td>1307</td>\n",
       "    </tr>\n",
       "    <tr>\n",
       "      <th>Jayanagar</th>\n",
       "      <td>552</td>\n",
       "      <td>1364</td>\n",
       "    </tr>\n",
       "    <tr>\n",
       "      <th>Kalyan Nagar</th>\n",
       "      <td>350</td>\n",
       "      <td>491</td>\n",
       "    </tr>\n",
       "    <tr>\n",
       "      <th>Kammanahalli</th>\n",
       "      <td>264</td>\n",
       "      <td>375</td>\n",
       "    </tr>\n",
       "    <tr>\n",
       "      <th>Koramangala 1st Block</th>\n",
       "      <td>384</td>\n",
       "      <td>852</td>\n",
       "    </tr>\n",
       "    <tr>\n",
       "      <th>Koramangala 4th Block</th>\n",
       "      <td>459</td>\n",
       "      <td>558</td>\n",
       "    </tr>\n",
       "    <tr>\n",
       "      <th>Koramangala 5th Block</th>\n",
       "      <td>866</td>\n",
       "      <td>1613</td>\n",
       "    </tr>\n",
       "    <tr>\n",
       "      <th>Koramangala 6th Block</th>\n",
       "      <td>445</td>\n",
       "      <td>682</td>\n",
       "    </tr>\n",
       "    <tr>\n",
       "      <th>Koramangala 7th Block</th>\n",
       "      <td>389</td>\n",
       "      <td>785</td>\n",
       "    </tr>\n",
       "    <tr>\n",
       "      <th>Lavelle Road</th>\n",
       "      <td>315</td>\n",
       "      <td>203</td>\n",
       "    </tr>\n",
       "    <tr>\n",
       "      <th>MG Road</th>\n",
       "      <td>520</td>\n",
       "      <td>373</td>\n",
       "    </tr>\n",
       "    <tr>\n",
       "      <th>Malleshwaram</th>\n",
       "      <td>309</td>\n",
       "      <td>412</td>\n",
       "    </tr>\n",
       "    <tr>\n",
       "      <th>Marathahalli</th>\n",
       "      <td>701</td>\n",
       "      <td>1104</td>\n",
       "    </tr>\n",
       "    <tr>\n",
       "      <th>New BEL Road</th>\n",
       "      <td>255</td>\n",
       "      <td>389</td>\n",
       "    </tr>\n",
       "    <tr>\n",
       "      <th>Old Airport Road</th>\n",
       "      <td>221</td>\n",
       "      <td>216</td>\n",
       "    </tr>\n",
       "    <tr>\n",
       "      <th>Rajajinagar</th>\n",
       "      <td>286</td>\n",
       "      <td>305</td>\n",
       "    </tr>\n",
       "    <tr>\n",
       "      <th>Residency Road</th>\n",
       "      <td>424</td>\n",
       "      <td>247</td>\n",
       "    </tr>\n",
       "    <tr>\n",
       "      <th>Richmond Road</th>\n",
       "      <td>557</td>\n",
       "      <td>246</td>\n",
       "    </tr>\n",
       "    <tr>\n",
       "      <th>Sarjapur Road</th>\n",
       "      <td>323</td>\n",
       "      <td>724</td>\n",
       "    </tr>\n",
       "    <tr>\n",
       "      <th>Shanti Nagar</th>\n",
       "      <td>289</td>\n",
       "      <td>219</td>\n",
       "    </tr>\n",
       "    <tr>\n",
       "      <th>Shivajinagar</th>\n",
       "      <td>354</td>\n",
       "      <td>144</td>\n",
       "    </tr>\n",
       "    <tr>\n",
       "      <th>St. Marks Road</th>\n",
       "      <td>176</td>\n",
       "      <td>167</td>\n",
       "    </tr>\n",
       "    <tr>\n",
       "      <th>Ulsoor</th>\n",
       "      <td>389</td>\n",
       "      <td>622</td>\n",
       "    </tr>\n",
       "    <tr>\n",
       "      <th>Whitefield</th>\n",
       "      <td>986</td>\n",
       "      <td>1119</td>\n",
       "    </tr>\n",
       "    <tr>\n",
       "      <th>others</th>\n",
       "      <td>2064</td>\n",
       "      <td>2890</td>\n",
       "    </tr>\n",
       "  </tbody>\n",
       "</table>\n",
       "</div>"
      ],
      "text/plain": [
       "                       name      \n",
       "online_order             No   Yes\n",
       "location                         \n",
       "BTM                    1763  3293\n",
       "Banashankari            397   505\n",
       "Banaswadi               302   338\n",
       "Bannerghatta Road       685   924\n",
       "Basavanagudi            243   441\n",
       "Bellandur               517   751\n",
       "Brigade Road            552   658\n",
       "Brookefield             239   417\n",
       "Church Street           226   340\n",
       "Commercial Street       228   142\n",
       "Cunningham Road         168   322\n",
       "Domlur                  247   235\n",
       "Ejipura                 214   219\n",
       "Electronic City         676   570\n",
       "Frazer Town             287   427\n",
       "HSR                     584  1910\n",
       "Indiranagar             697  1329\n",
       "JP Nagar                911  1307\n",
       "Jayanagar               552  1364\n",
       "Kalyan Nagar            350   491\n",
       "Kammanahalli            264   375\n",
       "Koramangala 1st Block   384   852\n",
       "Koramangala 4th Block   459   558\n",
       "Koramangala 5th Block   866  1613\n",
       "Koramangala 6th Block   445   682\n",
       "Koramangala 7th Block   389   785\n",
       "Lavelle Road            315   203\n",
       "MG Road                 520   373\n",
       "Malleshwaram            309   412\n",
       "Marathahalli            701  1104\n",
       "New BEL Road            255   389\n",
       "Old Airport Road        221   216\n",
       "Rajajinagar             286   305\n",
       "Residency Road          424   247\n",
       "Richmond Road           557   246\n",
       "Sarjapur Road           323   724\n",
       "Shanti Nagar            289   219\n",
       "Shivajinagar            354   144\n",
       "St. Marks Road          176   167\n",
       "Ulsoor                  389   622\n",
       "Whitefield              986  1119\n",
       "others                 2064  2890"
      ]
     },
     "execution_count": 100,
     "metadata": {},
     "output_type": "execute_result"
    }
   ],
   "source": [
    "df1 = df.groupby(['location','online_order'])['name'].count()\n",
    "df1.to_csv('location_online.csv')\n",
    "df1 = pd.read_csv('location_online.csv')\n",
    "df1 = pd.pivot_table(df1, values=None, index=['location'], columns=['online_order'], fill_value=0, aggfunc=np.sum)\n",
    "df1"
   ]
  },
  {
   "cell_type": "code",
   "execution_count": 101,
   "metadata": {
    "execution": {
     "iopub.execute_input": "2021-06-01T09:33:34.53676Z",
     "iopub.status.busy": "2021-06-01T09:33:34.536314Z",
     "iopub.status.idle": "2021-06-01T09:33:35.279875Z",
     "shell.execute_reply": "2021-06-01T09:33:35.278564Z",
     "shell.execute_reply.started": "2021-06-01T09:33:34.536729Z"
    }
   },
   "outputs": [
    {
     "data": {
      "text/plain": [
       "<AxesSubplot:xlabel='location'>"
      ]
     },
     "execution_count": 101,
     "metadata": {},
     "output_type": "execute_result"
    },
    {
     "data": {
      "image/png": "[encoded data removed]",
      "text/plain": [
       "<Figure size 1080x576 with 1 Axes>"
      ]
     },
     "metadata": {},
     "output_type": "display_data"
    }
   ],
   "source": [
    "df1.plot(kind = 'bar', figsize = (15,8))"
   ]
  },
  {
   "cell_type": "markdown",
   "metadata": {},
   "source": [
    "## Visualizing Book Table Facility, Location Wise"
   ]
  },
  {
   "cell_type": "code",
   "execution_count": 102,
   "metadata": {
    "execution": {
     "iopub.execute_input": "2021-06-01T09:33:35.281823Z",
     "iopub.status.busy": "2021-06-01T09:33:35.281449Z",
     "iopub.status.idle": "2021-06-01T09:33:35.336095Z",
     "shell.execute_reply": "2021-06-01T09:33:35.334911Z",
     "shell.execute_reply.started": "2021-06-01T09:33:35.281782Z"
    }
   },
   "outputs": [
    {
     "data": {
      "text/html": [
       "<div>\n",
       "<style scoped>\n",
       "    .dataframe tbody tr th:only-of-type {\n",
       "        vertical-align: middle;\n",
       "    }\n",
       "\n",
       "    .dataframe tbody tr th {\n",
       "        vertical-align: top;\n",
       "    }\n",
       "\n",
       "    .dataframe thead tr th {\n",
       "        text-align: left;\n",
       "    }\n",
       "\n",
       "    .dataframe thead tr:last-of-type th {\n",
       "        text-align: right;\n",
       "    }\n",
       "</style>\n",
       "<table border=\"1\" class=\"dataframe\">\n",
       "  <thead>\n",
       "    <tr>\n",
       "      <th></th>\n",
       "      <th colspan=\"2\" halign=\"left\">name</th>\n",
       "    </tr>\n",
       "    <tr>\n",
       "      <th>book_table</th>\n",
       "      <th>No</th>\n",
       "      <th>Yes</th>\n",
       "    </tr>\n",
       "    <tr>\n",
       "      <th>location</th>\n",
       "      <th></th>\n",
       "      <th></th>\n",
       "    </tr>\n",
       "  </thead>\n",
       "  <tbody>\n",
       "    <tr>\n",
       "      <th>BTM</th>\n",
       "      <td>4889</td>\n",
       "      <td>167</td>\n",
       "    </tr>\n",
       "    <tr>\n",
       "      <th>Banashankari</th>\n",
       "      <td>839</td>\n",
       "      <td>63</td>\n",
       "    </tr>\n",
       "    <tr>\n",
       "      <th>Banaswadi</th>\n",
       "      <td>632</td>\n",
       "      <td>8</td>\n",
       "    </tr>\n",
       "    <tr>\n",
       "      <th>Bannerghatta Road</th>\n",
       "      <td>1510</td>\n",
       "      <td>99</td>\n",
       "    </tr>\n",
       "    <tr>\n",
       "      <th>Basavanagudi</th>\n",
       "      <td>668</td>\n",
       "      <td>16</td>\n",
       "    </tr>\n",
       "    <tr>\n",
       "      <th>Bellandur</th>\n",
       "      <td>1170</td>\n",
       "      <td>98</td>\n",
       "    </tr>\n",
       "    <tr>\n",
       "      <th>Brigade Road</th>\n",
       "      <td>1034</td>\n",
       "      <td>176</td>\n",
       "    </tr>\n",
       "    <tr>\n",
       "      <th>Brookefield</th>\n",
       "      <td>582</td>\n",
       "      <td>74</td>\n",
       "    </tr>\n",
       "    <tr>\n",
       "      <th>Church Street</th>\n",
       "      <td>385</td>\n",
       "      <td>181</td>\n",
       "    </tr>\n",
       "    <tr>\n",
       "      <th>Commercial Street</th>\n",
       "      <td>370</td>\n",
       "      <td>0</td>\n",
       "    </tr>\n",
       "    <tr>\n",
       "      <th>Cunningham Road</th>\n",
       "      <td>315</td>\n",
       "      <td>175</td>\n",
       "    </tr>\n",
       "    <tr>\n",
       "      <th>Domlur</th>\n",
       "      <td>427</td>\n",
       "      <td>55</td>\n",
       "    </tr>\n",
       "    <tr>\n",
       "      <th>Ejipura</th>\n",
       "      <td>433</td>\n",
       "      <td>0</td>\n",
       "    </tr>\n",
       "    <tr>\n",
       "      <th>Electronic City</th>\n",
       "      <td>1148</td>\n",
       "      <td>98</td>\n",
       "    </tr>\n",
       "    <tr>\n",
       "      <th>Frazer Town</th>\n",
       "      <td>706</td>\n",
       "      <td>8</td>\n",
       "    </tr>\n",
       "    <tr>\n",
       "      <th>HSR</th>\n",
       "      <td>2277</td>\n",
       "      <td>217</td>\n",
       "    </tr>\n",
       "    <tr>\n",
       "      <th>Indiranagar</th>\n",
       "      <td>1578</td>\n",
       "      <td>448</td>\n",
       "    </tr>\n",
       "    <tr>\n",
       "      <th>JP Nagar</th>\n",
       "      <td>1903</td>\n",
       "      <td>315</td>\n",
       "    </tr>\n",
       "    <tr>\n",
       "      <th>Jayanagar</th>\n",
       "      <td>1637</td>\n",
       "      <td>279</td>\n",
       "    </tr>\n",
       "    <tr>\n",
       "      <th>Kalyan Nagar</th>\n",
       "      <td>692</td>\n",
       "      <td>149</td>\n",
       "    </tr>\n",
       "    <tr>\n",
       "      <th>Kammanahalli</th>\n",
       "      <td>590</td>\n",
       "      <td>49</td>\n",
       "    </tr>\n",
       "    <tr>\n",
       "      <th>Koramangala 1st Block</th>\n",
       "      <td>1186</td>\n",
       "      <td>50</td>\n",
       "    </tr>\n",
       "    <tr>\n",
       "      <th>Koramangala 4th Block</th>\n",
       "      <td>695</td>\n",
       "      <td>322</td>\n",
       "    </tr>\n",
       "    <tr>\n",
       "      <th>Koramangala 5th Block</th>\n",
       "      <td>1787</td>\n",
       "      <td>692</td>\n",
       "    </tr>\n",
       "    <tr>\n",
       "      <th>Koramangala 6th Block</th>\n",
       "      <td>1015</td>\n",
       "      <td>112</td>\n",
       "    </tr>\n",
       "    <tr>\n",
       "      <th>Koramangala 7th Block</th>\n",
       "      <td>1012</td>\n",
       "      <td>162</td>\n",
       "    </tr>\n",
       "    <tr>\n",
       "      <th>Lavelle Road</th>\n",
       "      <td>290</td>\n",
       "      <td>228</td>\n",
       "    </tr>\n",
       "    <tr>\n",
       "      <th>MG Road</th>\n",
       "      <td>546</td>\n",
       "      <td>347</td>\n",
       "    </tr>\n",
       "    <tr>\n",
       "      <th>Malleshwaram</th>\n",
       "      <td>632</td>\n",
       "      <td>89</td>\n",
       "    </tr>\n",
       "    <tr>\n",
       "      <th>Marathahalli</th>\n",
       "      <td>1642</td>\n",
       "      <td>163</td>\n",
       "    </tr>\n",
       "    <tr>\n",
       "      <th>New BEL Road</th>\n",
       "      <td>588</td>\n",
       "      <td>56</td>\n",
       "    </tr>\n",
       "    <tr>\n",
       "      <th>Old Airport Road</th>\n",
       "      <td>378</td>\n",
       "      <td>59</td>\n",
       "    </tr>\n",
       "    <tr>\n",
       "      <th>Rajajinagar</th>\n",
       "      <td>550</td>\n",
       "      <td>41</td>\n",
       "    </tr>\n",
       "    <tr>\n",
       "      <th>Residency Road</th>\n",
       "      <td>522</td>\n",
       "      <td>149</td>\n",
       "    </tr>\n",
       "    <tr>\n",
       "      <th>Richmond Road</th>\n",
       "      <td>687</td>\n",
       "      <td>116</td>\n",
       "    </tr>\n",
       "    <tr>\n",
       "      <th>Sarjapur Road</th>\n",
       "      <td>893</td>\n",
       "      <td>154</td>\n",
       "    </tr>\n",
       "    <tr>\n",
       "      <th>Shanti Nagar</th>\n",
       "      <td>451</td>\n",
       "      <td>57</td>\n",
       "    </tr>\n",
       "    <tr>\n",
       "      <th>Shivajinagar</th>\n",
       "      <td>475</td>\n",
       "      <td>23</td>\n",
       "    </tr>\n",
       "    <tr>\n",
       "      <th>St. Marks Road</th>\n",
       "      <td>219</td>\n",
       "      <td>124</td>\n",
       "    </tr>\n",
       "    <tr>\n",
       "      <th>Ulsoor</th>\n",
       "      <td>834</td>\n",
       "      <td>177</td>\n",
       "    </tr>\n",
       "    <tr>\n",
       "      <th>Whitefield</th>\n",
       "      <td>1852</td>\n",
       "      <td>253</td>\n",
       "    </tr>\n",
       "    <tr>\n",
       "      <th>others</th>\n",
       "      <td>4587</td>\n",
       "      <td>367</td>\n",
       "    </tr>\n",
       "  </tbody>\n",
       "</table>\n",
       "</div>"
      ],
      "text/plain": [
       "                       name     \n",
       "book_table               No  Yes\n",
       "location                        \n",
       "BTM                    4889  167\n",
       "Banashankari            839   63\n",
       "Banaswadi               632    8\n",
       "Bannerghatta Road      1510   99\n",
       "Basavanagudi            668   16\n",
       "Bellandur              1170   98\n",
       "Brigade Road           1034  176\n",
       "Brookefield             582   74\n",
       "Church Street           385  181\n",
       "Commercial Street       370    0\n",
       "Cunningham Road         315  175\n",
       "Domlur                  427   55\n",
       "Ejipura                 433    0\n",
       "Electronic City        1148   98\n",
       "Frazer Town             706    8\n",
       "HSR                    2277  217\n",
       "Indiranagar            1578  448\n",
       "JP Nagar               1903  315\n",
       "Jayanagar              1637  279\n",
       "Kalyan Nagar            692  149\n",
       "Kammanahalli            590   49\n",
       "Koramangala 1st Block  1186   50\n",
       "Koramangala 4th Block   695  322\n",
       "Koramangala 5th Block  1787  692\n",
       "Koramangala 6th Block  1015  112\n",
       "Koramangala 7th Block  1012  162\n",
       "Lavelle Road            290  228\n",
       "MG Road                 546  347\n",
       "Malleshwaram            632   89\n",
       "Marathahalli           1642  163\n",
       "New BEL Road            588   56\n",
       "Old Airport Road        378   59\n",
       "Rajajinagar             550   41\n",
       "Residency Road          522  149\n",
       "Richmond Road           687  116\n",
       "Sarjapur Road           893  154\n",
       "Shanti Nagar            451   57\n",
       "Shivajinagar            475   23\n",
       "St. Marks Road          219  124\n",
       "Ulsoor                  834  177\n",
       "Whitefield             1852  253\n",
       "others                 4587  367"
      ]
     },
     "execution_count": 102,
     "metadata": {},
     "output_type": "execute_result"
    }
   ],
   "source": [
    "df2 = df.groupby(['location','book_table'])['name'].count()\n",
    "df2.to_csv('location_booktable.csv')\n",
    "df2 = pd.read_csv('location_booktable.csv')\n",
    "df2 = pd.pivot_table(df2, values=None, index=['location'], columns=['book_table'], fill_value=0, aggfunc=np.sum)\n",
    "df2"
   ]
  },
  {
   "cell_type": "code",
   "execution_count": 103,
   "metadata": {
    "execution": {
     "iopub.execute_input": "2021-06-01T09:33:35.337491Z",
     "iopub.status.busy": "2021-06-01T09:33:35.337184Z",
     "iopub.status.idle": "2021-06-01T09:33:36.134764Z",
     "shell.execute_reply": "2021-06-01T09:33:36.133502Z",
     "shell.execute_reply.started": "2021-06-01T09:33:35.337462Z"
    }
   },
   "outputs": [
    {
     "data": {
      "text/plain": [
       "<AxesSubplot:xlabel='location'>"
      ]
     },
     "execution_count": 103,
     "metadata": {},
     "output_type": "execute_result"
    },
    {
     "data": {
      "image/png": "[encoded data removed]",
      "text/plain": [
       "<Figure size 1080x576 with 1 Axes>"
      ]
     },
     "metadata": {},
     "output_type": "display_data"
    }
   ],
   "source": [
    "df2.plot(kind = 'bar', figsize = (15,8))"
   ]
  },
  {
   "cell_type": "markdown",
   "metadata": {},
   "source": [
    "## Visualizing Types of Restaurents vs Rate "
   ]
  },
  {
   "cell_type": "code",
   "execution_count": 104,
   "metadata": {
    "execution": {
     "iopub.execute_input": "2021-06-01T09:33:36.136995Z",
     "iopub.status.busy": "2021-06-01T09:33:36.136438Z",
     "iopub.status.idle": "2021-06-01T09:33:36.463095Z",
     "shell.execute_reply": "2021-06-01T09:33:36.462049Z",
     "shell.execute_reply.started": "2021-06-01T09:33:36.136948Z"
    }
   },
   "outputs": [
    {
     "data": {
      "text/plain": [
       "<AxesSubplot:xlabel='Type', ylabel='rate'>"
      ]
     },
     "execution_count": 104,
     "metadata": {},
     "output_type": "execute_result"
    },
    {
     "data": {
      "image/png": "[encoded data removed]",
      "text/plain": [
       "<Figure size 1008x576 with 1 Axes>"
      ]
     },
     "metadata": {},
     "output_type": "display_data"
    }
   ],
   "source": [
    "plt.figure(figsize = (14, 8))\n",
    "sns.boxplot(x = 'Type', y = 'rate', data = df, palette = 'inferno')"
   ]
  },
  {
   "cell_type": "markdown",
   "metadata": {},
   "source": [
    "## Grouping Types of Restaurents, location wise"
   ]
  },
  {
   "cell_type": "code",
   "execution_count": 105,
   "metadata": {
    "execution": {
     "iopub.execute_input": "2021-06-01T09:33:36.465522Z",
     "iopub.status.busy": "2021-06-01T09:33:36.464778Z",
     "iopub.status.idle": "2021-06-01T09:33:36.53379Z",
     "shell.execute_reply": "2021-06-01T09:33:36.532953Z",
     "shell.execute_reply.started": "2021-06-01T09:33:36.465464Z"
    }
   },
   "outputs": [
    {
     "data": {
      "text/html": [
       "<div>\n",
       "<style scoped>\n",
       "    .dataframe tbody tr th:only-of-type {\n",
       "        vertical-align: middle;\n",
       "    }\n",
       "\n",
       "    .dataframe tbody tr th {\n",
       "        vertical-align: top;\n",
       "    }\n",
       "\n",
       "    .dataframe thead tr th {\n",
       "        text-align: left;\n",
       "    }\n",
       "\n",
       "    .dataframe thead tr:last-of-type th {\n",
       "        text-align: right;\n",
       "    }\n",
       "</style>\n",
       "<table border=\"1\" class=\"dataframe\">\n",
       "  <thead>\n",
       "    <tr>\n",
       "      <th></th>\n",
       "      <th colspan=\"7\" halign=\"left\">name</th>\n",
       "    </tr>\n",
       "    <tr>\n",
       "      <th>Type</th>\n",
       "      <th>Buffet</th>\n",
       "      <th>Cafes</th>\n",
       "      <th>Delivery</th>\n",
       "      <th>Desserts</th>\n",
       "      <th>Dine-out</th>\n",
       "      <th>Drinks &amp; nightlife</th>\n",
       "      <th>Pubs and bars</th>\n",
       "    </tr>\n",
       "    <tr>\n",
       "      <th>location</th>\n",
       "      <th></th>\n",
       "      <th></th>\n",
       "      <th></th>\n",
       "      <th></th>\n",
       "      <th></th>\n",
       "      <th></th>\n",
       "      <th></th>\n",
       "    </tr>\n",
       "  </thead>\n",
       "  <tbody>\n",
       "    <tr>\n",
       "      <th>BTM</th>\n",
       "      <td>21</td>\n",
       "      <td>83</td>\n",
       "      <td>3053</td>\n",
       "      <td>198</td>\n",
       "      <td>1660</td>\n",
       "      <td>22</td>\n",
       "      <td>19</td>\n",
       "    </tr>\n",
       "    <tr>\n",
       "      <th>Banashankari</th>\n",
       "      <td>7</td>\n",
       "      <td>36</td>\n",
       "      <td>418</td>\n",
       "      <td>71</td>\n",
       "      <td>356</td>\n",
       "      <td>14</td>\n",
       "      <td>0</td>\n",
       "    </tr>\n",
       "    <tr>\n",
       "      <th>Banaswadi</th>\n",
       "      <td>0</td>\n",
       "      <td>24</td>\n",
       "      <td>310</td>\n",
       "      <td>37</td>\n",
       "      <td>262</td>\n",
       "      <td>6</td>\n",
       "      <td>1</td>\n",
       "    </tr>\n",
       "    <tr>\n",
       "      <th>Bannerghatta Road</th>\n",
       "      <td>9</td>\n",
       "      <td>46</td>\n",
       "      <td>828</td>\n",
       "      <td>137</td>\n",
       "      <td>578</td>\n",
       "      <td>9</td>\n",
       "      <td>2</td>\n",
       "    </tr>\n",
       "    <tr>\n",
       "      <th>Basavanagudi</th>\n",
       "      <td>7</td>\n",
       "      <td>11</td>\n",
       "      <td>344</td>\n",
       "      <td>66</td>\n",
       "      <td>251</td>\n",
       "      <td>5</td>\n",
       "      <td>0</td>\n",
       "    </tr>\n",
       "    <tr>\n",
       "      <th>Bellandur</th>\n",
       "      <td>28</td>\n",
       "      <td>36</td>\n",
       "      <td>617</td>\n",
       "      <td>75</td>\n",
       "      <td>479</td>\n",
       "      <td>17</td>\n",
       "      <td>16</td>\n",
       "    </tr>\n",
       "    <tr>\n",
       "      <th>Brigade Road</th>\n",
       "      <td>25</td>\n",
       "      <td>46</td>\n",
       "      <td>497</td>\n",
       "      <td>108</td>\n",
       "      <td>455</td>\n",
       "      <td>57</td>\n",
       "      <td>22</td>\n",
       "    </tr>\n",
       "    <tr>\n",
       "      <th>Brookefield</th>\n",
       "      <td>6</td>\n",
       "      <td>17</td>\n",
       "      <td>339</td>\n",
       "      <td>45</td>\n",
       "      <td>245</td>\n",
       "      <td>4</td>\n",
       "      <td>0</td>\n",
       "    </tr>\n",
       "    <tr>\n",
       "      <th>Church Street</th>\n",
       "      <td>19</td>\n",
       "      <td>51</td>\n",
       "      <td>193</td>\n",
       "      <td>29</td>\n",
       "      <td>215</td>\n",
       "      <td>36</td>\n",
       "      <td>23</td>\n",
       "    </tr>\n",
       "    <tr>\n",
       "      <th>Commercial Street</th>\n",
       "      <td>0</td>\n",
       "      <td>13</td>\n",
       "      <td>121</td>\n",
       "      <td>77</td>\n",
       "      <td>159</td>\n",
       "      <td>0</td>\n",
       "      <td>0</td>\n",
       "    </tr>\n",
       "    <tr>\n",
       "      <th>Cunningham Road</th>\n",
       "      <td>29</td>\n",
       "      <td>34</td>\n",
       "      <td>194</td>\n",
       "      <td>26</td>\n",
       "      <td>184</td>\n",
       "      <td>16</td>\n",
       "      <td>7</td>\n",
       "    </tr>\n",
       "    <tr>\n",
       "      <th>Domlur</th>\n",
       "      <td>15</td>\n",
       "      <td>13</td>\n",
       "      <td>261</td>\n",
       "      <td>35</td>\n",
       "      <td>135</td>\n",
       "      <td>12</td>\n",
       "      <td>11</td>\n",
       "    </tr>\n",
       "    <tr>\n",
       "      <th>Ejipura</th>\n",
       "      <td>0</td>\n",
       "      <td>0</td>\n",
       "      <td>245</td>\n",
       "      <td>16</td>\n",
       "      <td>172</td>\n",
       "      <td>0</td>\n",
       "      <td>0</td>\n",
       "    </tr>\n",
       "    <tr>\n",
       "      <th>Electronic City</th>\n",
       "      <td>23</td>\n",
       "      <td>24</td>\n",
       "      <td>570</td>\n",
       "      <td>71</td>\n",
       "      <td>516</td>\n",
       "      <td>21</td>\n",
       "      <td>21</td>\n",
       "    </tr>\n",
       "    <tr>\n",
       "      <th>Frazer Town</th>\n",
       "      <td>1</td>\n",
       "      <td>11</td>\n",
       "      <td>470</td>\n",
       "      <td>56</td>\n",
       "      <td>172</td>\n",
       "      <td>2</td>\n",
       "      <td>2</td>\n",
       "    </tr>\n",
       "    <tr>\n",
       "      <th>HSR</th>\n",
       "      <td>19</td>\n",
       "      <td>49</td>\n",
       "      <td>1694</td>\n",
       "      <td>120</td>\n",
       "      <td>580</td>\n",
       "      <td>14</td>\n",
       "      <td>18</td>\n",
       "    </tr>\n",
       "    <tr>\n",
       "      <th>Indiranagar</th>\n",
       "      <td>38</td>\n",
       "      <td>97</td>\n",
       "      <td>1091</td>\n",
       "      <td>140</td>\n",
       "      <td>529</td>\n",
       "      <td>65</td>\n",
       "      <td>66</td>\n",
       "    </tr>\n",
       "    <tr>\n",
       "      <th>JP Nagar</th>\n",
       "      <td>45</td>\n",
       "      <td>76</td>\n",
       "      <td>1151</td>\n",
       "      <td>166</td>\n",
       "      <td>722</td>\n",
       "      <td>51</td>\n",
       "      <td>7</td>\n",
       "    </tr>\n",
       "    <tr>\n",
       "      <th>Jayanagar</th>\n",
       "      <td>27</td>\n",
       "      <td>77</td>\n",
       "      <td>1043</td>\n",
       "      <td>182</td>\n",
       "      <td>575</td>\n",
       "      <td>12</td>\n",
       "      <td>0</td>\n",
       "    </tr>\n",
       "    <tr>\n",
       "      <th>Kalyan Nagar</th>\n",
       "      <td>9</td>\n",
       "      <td>45</td>\n",
       "      <td>366</td>\n",
       "      <td>88</td>\n",
       "      <td>315</td>\n",
       "      <td>18</td>\n",
       "      <td>0</td>\n",
       "    </tr>\n",
       "    <tr>\n",
       "      <th>Kammanahalli</th>\n",
       "      <td>2</td>\n",
       "      <td>27</td>\n",
       "      <td>329</td>\n",
       "      <td>35</td>\n",
       "      <td>240</td>\n",
       "      <td>6</td>\n",
       "      <td>0</td>\n",
       "    </tr>\n",
       "    <tr>\n",
       "      <th>Koramangala 1st Block</th>\n",
       "      <td>3</td>\n",
       "      <td>26</td>\n",
       "      <td>716</td>\n",
       "      <td>70</td>\n",
       "      <td>398</td>\n",
       "      <td>7</td>\n",
       "      <td>16</td>\n",
       "    </tr>\n",
       "    <tr>\n",
       "      <th>Koramangala 4th Block</th>\n",
       "      <td>21</td>\n",
       "      <td>53</td>\n",
       "      <td>464</td>\n",
       "      <td>81</td>\n",
       "      <td>302</td>\n",
       "      <td>62</td>\n",
       "      <td>34</td>\n",
       "    </tr>\n",
       "    <tr>\n",
       "      <th>Koramangala 5th Block</th>\n",
       "      <td>65</td>\n",
       "      <td>146</td>\n",
       "      <td>1075</td>\n",
       "      <td>209</td>\n",
       "      <td>842</td>\n",
       "      <td>84</td>\n",
       "      <td>58</td>\n",
       "    </tr>\n",
       "    <tr>\n",
       "      <th>Koramangala 6th Block</th>\n",
       "      <td>18</td>\n",
       "      <td>43</td>\n",
       "      <td>511</td>\n",
       "      <td>70</td>\n",
       "      <td>411</td>\n",
       "      <td>51</td>\n",
       "      <td>23</td>\n",
       "    </tr>\n",
       "    <tr>\n",
       "      <th>Koramangala 7th Block</th>\n",
       "      <td>25</td>\n",
       "      <td>52</td>\n",
       "      <td>503</td>\n",
       "      <td>127</td>\n",
       "      <td>417</td>\n",
       "      <td>25</td>\n",
       "      <td>25</td>\n",
       "    </tr>\n",
       "    <tr>\n",
       "      <th>Lavelle Road</th>\n",
       "      <td>30</td>\n",
       "      <td>27</td>\n",
       "      <td>127</td>\n",
       "      <td>50</td>\n",
       "      <td>191</td>\n",
       "      <td>59</td>\n",
       "      <td>34</td>\n",
       "    </tr>\n",
       "    <tr>\n",
       "      <th>MG Road</th>\n",
       "      <td>51</td>\n",
       "      <td>76</td>\n",
       "      <td>266</td>\n",
       "      <td>68</td>\n",
       "      <td>343</td>\n",
       "      <td>53</td>\n",
       "      <td>36</td>\n",
       "    </tr>\n",
       "    <tr>\n",
       "      <th>Malleshwaram</th>\n",
       "      <td>11</td>\n",
       "      <td>31</td>\n",
       "      <td>269</td>\n",
       "      <td>85</td>\n",
       "      <td>291</td>\n",
       "      <td>20</td>\n",
       "      <td>14</td>\n",
       "    </tr>\n",
       "    <tr>\n",
       "      <th>Marathahalli</th>\n",
       "      <td>34</td>\n",
       "      <td>32</td>\n",
       "      <td>980</td>\n",
       "      <td>105</td>\n",
       "      <td>630</td>\n",
       "      <td>22</td>\n",
       "      <td>2</td>\n",
       "    </tr>\n",
       "    <tr>\n",
       "      <th>New BEL Road</th>\n",
       "      <td>4</td>\n",
       "      <td>29</td>\n",
       "      <td>338</td>\n",
       "      <td>33</td>\n",
       "      <td>224</td>\n",
       "      <td>8</td>\n",
       "      <td>8</td>\n",
       "    </tr>\n",
       "    <tr>\n",
       "      <th>Old Airport Road</th>\n",
       "      <td>12</td>\n",
       "      <td>5</td>\n",
       "      <td>200</td>\n",
       "      <td>35</td>\n",
       "      <td>164</td>\n",
       "      <td>12</td>\n",
       "      <td>9</td>\n",
       "    </tr>\n",
       "    <tr>\n",
       "      <th>Rajajinagar</th>\n",
       "      <td>10</td>\n",
       "      <td>4</td>\n",
       "      <td>258</td>\n",
       "      <td>55</td>\n",
       "      <td>251</td>\n",
       "      <td>3</td>\n",
       "      <td>10</td>\n",
       "    </tr>\n",
       "    <tr>\n",
       "      <th>Residency Road</th>\n",
       "      <td>20</td>\n",
       "      <td>31</td>\n",
       "      <td>187</td>\n",
       "      <td>63</td>\n",
       "      <td>289</td>\n",
       "      <td>55</td>\n",
       "      <td>26</td>\n",
       "    </tr>\n",
       "    <tr>\n",
       "      <th>Richmond Road</th>\n",
       "      <td>63</td>\n",
       "      <td>21</td>\n",
       "      <td>257</td>\n",
       "      <td>78</td>\n",
       "      <td>356</td>\n",
       "      <td>16</td>\n",
       "      <td>12</td>\n",
       "    </tr>\n",
       "    <tr>\n",
       "      <th>Sarjapur Road</th>\n",
       "      <td>25</td>\n",
       "      <td>22</td>\n",
       "      <td>558</td>\n",
       "      <td>82</td>\n",
       "      <td>319</td>\n",
       "      <td>19</td>\n",
       "      <td>22</td>\n",
       "    </tr>\n",
       "    <tr>\n",
       "      <th>Shanti Nagar</th>\n",
       "      <td>9</td>\n",
       "      <td>22</td>\n",
       "      <td>198</td>\n",
       "      <td>39</td>\n",
       "      <td>229</td>\n",
       "      <td>9</td>\n",
       "      <td>2</td>\n",
       "    </tr>\n",
       "    <tr>\n",
       "      <th>Shivajinagar</th>\n",
       "      <td>6</td>\n",
       "      <td>17</td>\n",
       "      <td>143</td>\n",
       "      <td>37</td>\n",
       "      <td>280</td>\n",
       "      <td>7</td>\n",
       "      <td>8</td>\n",
       "    </tr>\n",
       "    <tr>\n",
       "      <th>St. Marks Road</th>\n",
       "      <td>5</td>\n",
       "      <td>10</td>\n",
       "      <td>111</td>\n",
       "      <td>10</td>\n",
       "      <td>145</td>\n",
       "      <td>40</td>\n",
       "      <td>22</td>\n",
       "    </tr>\n",
       "    <tr>\n",
       "      <th>Ulsoor</th>\n",
       "      <td>16</td>\n",
       "      <td>56</td>\n",
       "      <td>456</td>\n",
       "      <td>71</td>\n",
       "      <td>359</td>\n",
       "      <td>23</td>\n",
       "      <td>30</td>\n",
       "    </tr>\n",
       "    <tr>\n",
       "      <th>Whitefield</th>\n",
       "      <td>28</td>\n",
       "      <td>51</td>\n",
       "      <td>1041</td>\n",
       "      <td>137</td>\n",
       "      <td>768</td>\n",
       "      <td>47</td>\n",
       "      <td>33</td>\n",
       "    </tr>\n",
       "    <tr>\n",
       "      <th>others</th>\n",
       "      <td>83</td>\n",
       "      <td>133</td>\n",
       "      <td>2787</td>\n",
       "      <td>276</td>\n",
       "      <td>1553</td>\n",
       "      <td>75</td>\n",
       "      <td>47</td>\n",
       "    </tr>\n",
       "  </tbody>\n",
       "</table>\n",
       "</div>"
      ],
      "text/plain": [
       "                        name                                   \\\n",
       "Type                  Buffet Cafes Delivery Desserts Dine-out   \n",
       "location                                                        \n",
       "BTM                       21    83     3053      198     1660   \n",
       "Banashankari               7    36      418       71      356   \n",
       "Banaswadi                  0    24      310       37      262   \n",
       "Bannerghatta Road          9    46      828      137      578   \n",
       "Basavanagudi               7    11      344       66      251   \n",
       "Bellandur                 28    36      617       75      479   \n",
       "Brigade Road              25    46      497      108      455   \n",
       "Brookefield                6    17      339       45      245   \n",
       "Church Street             19    51      193       29      215   \n",
       "Commercial Street          0    13      121       77      159   \n",
       "Cunningham Road           29    34      194       26      184   \n",
       "Domlur                    15    13      261       35      135   \n",
       "Ejipura                    0     0      245       16      172   \n",
       "Electronic City           23    24      570       71      516   \n",
       "Frazer Town                1    11      470       56      172   \n",
       "HSR                       19    49     1694      120      580   \n",
       "Indiranagar               38    97     1091      140      529   \n",
       "JP Nagar                  45    76     1151      166      722   \n",
       "Jayanagar                 27    77     1043      182      575   \n",
       "Kalyan Nagar               9    45      366       88      315   \n",
       "Kammanahalli               2    27      329       35      240   \n",
       "Koramangala 1st Block      3    26      716       70      398   \n",
       "Koramangala 4th Block     21    53      464       81      302   \n",
       "Koramangala 5th Block     65   146     1075      209      842   \n",
       "Koramangala 6th Block     18    43      511       70      411   \n",
       "Koramangala 7th Block     25    52      503      127      417   \n",
       "Lavelle Road              30    27      127       50      191   \n",
       "MG Road                   51    76      266       68      343   \n",
       "Malleshwaram              11    31      269       85      291   \n",
       "Marathahalli              34    32      980      105      630   \n",
       "New BEL Road               4    29      338       33      224   \n",
       "Old Airport Road          12     5      200       35      164   \n",
       "Rajajinagar               10     4      258       55      251   \n",
       "Residency Road            20    31      187       63      289   \n",
       "Richmond Road             63    21      257       78      356   \n",
       "Sarjapur Road             25    22      558       82      319   \n",
       "Shanti Nagar               9    22      198       39      229   \n",
       "Shivajinagar               6    17      143       37      280   \n",
       "St. Marks Road             5    10      111       10      145   \n",
       "Ulsoor                    16    56      456       71      359   \n",
       "Whitefield                28    51     1041      137      768   \n",
       "others                    83   133     2787      276     1553   \n",
       "\n",
       "                                                        \n",
       "Type                  Drinks & nightlife Pubs and bars  \n",
       "location                                                \n",
       "BTM                                   22            19  \n",
       "Banashankari                          14             0  \n",
       "Banaswadi                              6             1  \n",
       "Bannerghatta Road                      9             2  \n",
       "Basavanagudi                           5             0  \n",
       "Bellandur                             17            16  \n",
       "Brigade Road                          57            22  \n",
       "Brookefield                            4             0  \n",
       "Church Street                         36            23  \n",
       "Commercial Street                      0             0  \n",
       "Cunningham Road                       16             7  \n",
       "Domlur                                12            11  \n",
       "Ejipura                                0             0  \n",
       "Electronic City                       21            21  \n",
       "Frazer Town                            2             2  \n",
       "HSR                                   14            18  \n",
       "Indiranagar                           65            66  \n",
       "JP Nagar                              51             7  \n",
       "Jayanagar                             12             0  \n",
       "Kalyan Nagar                          18             0  \n",
       "Kammanahalli                           6             0  \n",
       "Koramangala 1st Block                  7            16  \n",
       "Koramangala 4th Block                 62            34  \n",
       "Koramangala 5th Block                 84            58  \n",
       "Koramangala 6th Block                 51            23  \n",
       "Koramangala 7th Block                 25            25  \n",
       "Lavelle Road                          59            34  \n",
       "MG Road                               53            36  \n",
       "Malleshwaram                          20            14  \n",
       "Marathahalli                          22             2  \n",
       "New BEL Road                           8             8  \n",
       "Old Airport Road                      12             9  \n",
       "Rajajinagar                            3            10  \n",
       "Residency Road                        55            26  \n",
       "Richmond Road                         16            12  \n",
       "Sarjapur Road                         19            22  \n",
       "Shanti Nagar                           9             2  \n",
       "Shivajinagar                           7             8  \n",
       "St. Marks Road                        40            22  \n",
       "Ulsoor                                23            30  \n",
       "Whitefield                            47            33  \n",
       "others                                75            47  "
      ]
     },
     "execution_count": 105,
     "metadata": {},
     "output_type": "execute_result"
    }
   ],
   "source": [
    "df3 = df.groupby(['location','Type'])['name'].count()\n",
    "df3.to_csv('location_Type.csv')\n",
    "df3 = pd.read_csv('location_Type.csv')\n",
    "df3 = pd.pivot_table(df3, values=None, index=['location'], columns=['Type'], fill_value=0, aggfunc=np.sum)\n",
    "df3"
   ]
  },
  {
   "cell_type": "code",
   "execution_count": 106,
   "metadata": {
    "execution": {
     "iopub.execute_input": "2021-06-01T09:33:36.535465Z",
     "iopub.status.busy": "2021-06-01T09:33:36.534999Z",
     "iopub.status.idle": "2021-06-01T09:33:38.074297Z",
     "shell.execute_reply": "2021-06-01T09:33:38.07279Z",
     "shell.execute_reply.started": "2021-06-01T09:33:36.53541Z"
    }
   },
   "outputs": [
    {
     "data": {
      "text/plain": [
       "<AxesSubplot:xlabel='location'>"
      ]
     },
     "execution_count": 106,
     "metadata": {},
     "output_type": "execute_result"
    },
    {
     "data": {
      "image/png": "[encoded data removed]",
      "text/plain": [
       "<Figure size 2592x576 with 1 Axes>"
      ]
     },
     "metadata": {},
     "output_type": "display_data"
    }
   ],
   "source": [
    "df3.plot(kind = 'bar', figsize = (36,8))"
   ]
  },
  {
   "cell_type": "markdown",
   "metadata": {},
   "source": [
    "## No. of Votes, Location Wise"
   ]
  },
  {
   "cell_type": "code",
   "execution_count": 107,
   "metadata": {
    "execution": {
     "iopub.execute_input": "2021-06-01T09:41:49.578134Z",
     "iopub.status.busy": "2021-06-01T09:41:49.57777Z",
     "iopub.status.idle": "2021-06-01T09:41:49.609509Z",
     "shell.execute_reply": "2021-06-01T09:41:49.608132Z",
     "shell.execute_reply.started": "2021-06-01T09:41:49.578105Z"
    }
   },
   "outputs": [
    {
     "data": {
      "text/html": [
       "<div>\n",
       "<style scoped>\n",
       "    .dataframe tbody tr th:only-of-type {\n",
       "        vertical-align: middle;\n",
       "    }\n",
       "\n",
       "    .dataframe tbody tr th {\n",
       "        vertical-align: top;\n",
       "    }\n",
       "\n",
       "    .dataframe thead th {\n",
       "        text-align: right;\n",
       "    }\n",
       "</style>\n",
       "<table border=\"1\" class=\"dataframe\">\n",
       "  <thead>\n",
       "    <tr style=\"text-align: right;\">\n",
       "      <th></th>\n",
       "      <th>votes</th>\n",
       "    </tr>\n",
       "    <tr>\n",
       "      <th>location</th>\n",
       "      <th></th>\n",
       "    </tr>\n",
       "  </thead>\n",
       "  <tbody>\n",
       "    <tr>\n",
       "      <th>Koramangala 5th Block</th>\n",
       "      <td>2214083</td>\n",
       "    </tr>\n",
       "    <tr>\n",
       "      <th>Indiranagar</th>\n",
       "      <td>1165909</td>\n",
       "    </tr>\n",
       "    <tr>\n",
       "      <th>Koramangala 4th Block</th>\n",
       "      <td>685156</td>\n",
       "    </tr>\n",
       "    <tr>\n",
       "      <th>Church Street</th>\n",
       "      <td>590306</td>\n",
       "    </tr>\n",
       "    <tr>\n",
       "      <th>JP Nagar</th>\n",
       "      <td>586522</td>\n",
       "    </tr>\n",
       "  </tbody>\n",
       "</table>\n",
       "</div>"
      ],
      "text/plain": [
       "                         votes\n",
       "location                      \n",
       "Koramangala 5th Block  2214083\n",
       "Indiranagar            1165909\n",
       "Koramangala 4th Block   685156\n",
       "Church Street           590306\n",
       "JP Nagar                586522"
      ]
     },
     "execution_count": 107,
     "metadata": {},
     "output_type": "execute_result"
    }
   ],
   "source": [
    "df4 = df[['location', 'votes']]\n",
    "df4.drop_duplicates()\n",
    "df5 = df4.groupby(['location'])['votes'].sum()\n",
    "df5 = df5.to_frame()\n",
    "df5 = df5.sort_values('votes', ascending=False)\n",
    "df5.head()"
   ]
  },
  {
   "cell_type": "code",
   "execution_count": 108,
   "metadata": {
    "execution": {
     "iopub.execute_input": "2021-06-01T09:42:51.938446Z",
     "iopub.status.busy": "2021-06-01T09:42:51.938105Z",
     "iopub.status.idle": "2021-06-01T09:42:52.484869Z",
     "shell.execute_reply": "2021-06-01T09:42:52.48388Z",
     "shell.execute_reply.started": "2021-06-01T09:42:51.938417Z"
    }
   },
   "outputs": [
    {
     "name": "stderr",
     "output_type": "stream",
     "text": [
      "C:\\Users\\billi\\anaconda3\\lib\\site-packages\\seaborn\\_decorators.py:36: FutureWarning: Pass the following variables as keyword args: x, y. From version 0.12, the only valid positional argument will be `data`, and passing other arguments without an explicit keyword will result in an error or misinterpretation.\n",
      "  warnings.warn(\n"
     ]
    },
    {
     "data": {
      "text/plain": [
       "(array([ 0,  1,  2,  3,  4,  5,  6,  7,  8,  9, 10, 11, 12, 13, 14, 15, 16,\n",
       "        17, 18, 19, 20, 21, 22, 23, 24, 25, 26, 27, 28, 29, 30, 31, 32, 33,\n",
       "        34, 35, 36, 37, 38, 39, 40, 41]),\n",
       " [Text(0, 0, 'Koramangala 5th Block'),\n",
       "  Text(1, 0, 'Indiranagar'),\n",
       "  Text(2, 0, 'Koramangala 4th Block'),\n",
       "  Text(3, 0, 'Church Street'),\n",
       "  Text(4, 0, 'JP Nagar'),\n",
       "  Text(5, 0, 'BTM'),\n",
       "  Text(6, 0, 'others'),\n",
       "  Text(7, 0, 'HSR'),\n",
       "  Text(8, 0, 'Lavelle Road'),\n",
       "  Text(9, 0, 'Koramangala 7th Block'),\n",
       "  Text(10, 0, 'Jayanagar'),\n",
       "  Text(11, 0, 'Whitefield'),\n",
       "  Text(12, 0, 'Koramangala 6th Block'),\n",
       "  Text(13, 0, 'Marathahalli'),\n",
       "  Text(14, 0, 'MG Road'),\n",
       "  Text(15, 0, 'Brigade Road'),\n",
       "  Text(16, 0, 'Sarjapur Road'),\n",
       "  Text(17, 0, 'Residency Road'),\n",
       "  Text(18, 0, 'Cunningham Road'),\n",
       "  Text(19, 0, 'St. Marks Road'),\n",
       "  Text(20, 0, 'Koramangala 1st Block'),\n",
       "  Text(21, 0, 'Malleshwaram'),\n",
       "  Text(22, 0, 'Bannerghatta Road'),\n",
       "  Text(23, 0, 'Bellandur'),\n",
       "  Text(24, 0, 'Ulsoor'),\n",
       "  Text(25, 0, 'New BEL Road'),\n",
       "  Text(26, 0, 'Kalyan Nagar'),\n",
       "  Text(27, 0, 'Banashankari'),\n",
       "  Text(28, 0, 'Old Airport Road'),\n",
       "  Text(29, 0, 'Brookefield'),\n",
       "  Text(30, 0, 'Richmond Road'),\n",
       "  Text(31, 0, 'Electronic City'),\n",
       "  Text(32, 0, 'Kammanahalli'),\n",
       "  Text(33, 0, 'Frazer Town'),\n",
       "  Text(34, 0, 'Domlur'),\n",
       "  Text(35, 0, 'Basavanagudi'),\n",
       "  Text(36, 0, 'Rajajinagar'),\n",
       "  Text(37, 0, 'Shanti Nagar'),\n",
       "  Text(38, 0, 'Banaswadi'),\n",
       "  Text(39, 0, 'Commercial Street'),\n",
       "  Text(40, 0, 'Ejipura'),\n",
       "  Text(41, 0, 'Shivajinagar')])"
      ]
     },
     "execution_count": 108,
     "metadata": {},
     "output_type": "execute_result"
    },
    {
     "data": {
      "image/png": "[encoded data removed]",
      "text/plain": [
       "<Figure size 1080x576 with 1 Axes>"
      ]
     },
     "metadata": {},
     "output_type": "display_data"
    }
   ],
   "source": [
    "plt.figure(figsize = (15,8))\n",
    "sns.barplot(df5.index , df5['votes'])\n",
    "plt.xticks(rotation = 90)"
   ]
  },
  {
   "cell_type": "code",
   "execution_count": 109,
   "metadata": {
    "execution": {
     "iopub.execute_input": "2021-06-01T09:33:40.831409Z",
     "iopub.status.busy": "2021-06-01T09:33:40.830958Z",
     "iopub.status.idle": "2021-06-01T09:33:40.856217Z",
     "shell.execute_reply": "2021-06-01T09:33:40.854211Z",
     "shell.execute_reply.started": "2021-06-01T09:33:40.831364Z"
    }
   },
   "outputs": [
    {
     "data": {
      "text/html": [
       "<div>\n",
       "<style scoped>\n",
       "    .dataframe tbody tr th:only-of-type {\n",
       "        vertical-align: middle;\n",
       "    }\n",
       "\n",
       "    .dataframe tbody tr th {\n",
       "        vertical-align: top;\n",
       "    }\n",
       "\n",
       "    .dataframe thead th {\n",
       "        text-align: right;\n",
       "    }\n",
       "</style>\n",
       "<table border=\"1\" class=\"dataframe\">\n",
       "  <thead>\n",
       "    <tr style=\"text-align: right;\">\n",
       "      <th></th>\n",
       "      <th>name</th>\n",
       "      <th>online_order</th>\n",
       "      <th>book_table</th>\n",
       "      <th>rate</th>\n",
       "      <th>votes</th>\n",
       "      <th>location</th>\n",
       "      <th>rest_type</th>\n",
       "      <th>cuisines</th>\n",
       "      <th>Cost2plates</th>\n",
       "      <th>Type</th>\n",
       "    </tr>\n",
       "  </thead>\n",
       "  <tbody>\n",
       "    <tr>\n",
       "      <th>0</th>\n",
       "      <td>Jalsa</td>\n",
       "      <td>Yes</td>\n",
       "      <td>Yes</td>\n",
       "      <td>4.1</td>\n",
       "      <td>775</td>\n",
       "      <td>Banashankari</td>\n",
       "      <td>Casual Dining</td>\n",
       "      <td>North Indian, Mughlai, Chinese</td>\n",
       "      <td>800.0</td>\n",
       "      <td>Buffet</td>\n",
       "    </tr>\n",
       "    <tr>\n",
       "      <th>1</th>\n",
       "      <td>Spice Elephant</td>\n",
       "      <td>Yes</td>\n",
       "      <td>No</td>\n",
       "      <td>4.1</td>\n",
       "      <td>787</td>\n",
       "      <td>Banashankari</td>\n",
       "      <td>Casual Dining</td>\n",
       "      <td>others</td>\n",
       "      <td>800.0</td>\n",
       "      <td>Buffet</td>\n",
       "    </tr>\n",
       "    <tr>\n",
       "      <th>2</th>\n",
       "      <td>San Churro Cafe</td>\n",
       "      <td>Yes</td>\n",
       "      <td>No</td>\n",
       "      <td>3.8</td>\n",
       "      <td>918</td>\n",
       "      <td>Banashankari</td>\n",
       "      <td>others</td>\n",
       "      <td>others</td>\n",
       "      <td>800.0</td>\n",
       "      <td>Buffet</td>\n",
       "    </tr>\n",
       "    <tr>\n",
       "      <th>3</th>\n",
       "      <td>Addhuri Udupi Bhojana</td>\n",
       "      <td>No</td>\n",
       "      <td>No</td>\n",
       "      <td>3.7</td>\n",
       "      <td>88</td>\n",
       "      <td>Banashankari</td>\n",
       "      <td>Quick Bites</td>\n",
       "      <td>South Indian, North Indian</td>\n",
       "      <td>300.0</td>\n",
       "      <td>Buffet</td>\n",
       "    </tr>\n",
       "    <tr>\n",
       "      <th>4</th>\n",
       "      <td>Grand Village</td>\n",
       "      <td>No</td>\n",
       "      <td>No</td>\n",
       "      <td>3.8</td>\n",
       "      <td>166</td>\n",
       "      <td>Basavanagudi</td>\n",
       "      <td>Casual Dining</td>\n",
       "      <td>others</td>\n",
       "      <td>600.0</td>\n",
       "      <td>Buffet</td>\n",
       "    </tr>\n",
       "  </tbody>\n",
       "</table>\n",
       "</div>"
      ],
      "text/plain": [
       "                    name online_order book_table  rate  votes      location  \\\n",
       "0                  Jalsa          Yes        Yes   4.1    775  Banashankari   \n",
       "1         Spice Elephant          Yes         No   4.1    787  Banashankari   \n",
       "2        San Churro Cafe          Yes         No   3.8    918  Banashankari   \n",
       "3  Addhuri Udupi Bhojana           No         No   3.7     88  Banashankari   \n",
       "4          Grand Village           No         No   3.8    166  Basavanagudi   \n",
       "\n",
       "       rest_type                        cuisines  Cost2plates    Type  \n",
       "0  Casual Dining  North Indian, Mughlai, Chinese        800.0  Buffet  \n",
       "1  Casual Dining                          others        800.0  Buffet  \n",
       "2         others                          others        800.0  Buffet  \n",
       "3    Quick Bites      South Indian, North Indian        300.0  Buffet  \n",
       "4  Casual Dining                          others        600.0  Buffet  "
      ]
     },
     "execution_count": 109,
     "metadata": {},
     "output_type": "execute_result"
    }
   ],
   "source": [
    "df.head()"
   ]
  },
  {
   "cell_type": "markdown",
   "metadata": {},
   "source": [
    "## Visualizing Top Cuisines"
   ]
  },
  {
   "cell_type": "code",
   "execution_count": 110,
   "metadata": {
    "execution": {
     "iopub.execute_input": "2021-06-01T09:46:03.838762Z",
     "iopub.status.busy": "2021-06-01T09:46:03.838319Z",
     "iopub.status.idle": "2021-06-01T09:46:03.867414Z",
     "shell.execute_reply": "2021-06-01T09:46:03.866637Z",
     "shell.execute_reply.started": "2021-06-01T09:46:03.838722Z"
    }
   },
   "outputs": [
    {
     "data": {
      "text/html": [
       "<div>\n",
       "<style scoped>\n",
       "    .dataframe tbody tr th:only-of-type {\n",
       "        vertical-align: middle;\n",
       "    }\n",
       "\n",
       "    .dataframe tbody tr th {\n",
       "        vertical-align: top;\n",
       "    }\n",
       "\n",
       "    .dataframe thead th {\n",
       "        text-align: right;\n",
       "    }\n",
       "</style>\n",
       "<table border=\"1\" class=\"dataframe\">\n",
       "  <thead>\n",
       "    <tr style=\"text-align: right;\">\n",
       "      <th></th>\n",
       "      <th>votes</th>\n",
       "    </tr>\n",
       "    <tr>\n",
       "      <th>cuisines</th>\n",
       "      <th></th>\n",
       "    </tr>\n",
       "  </thead>\n",
       "  <tbody>\n",
       "    <tr>\n",
       "      <th>others</th>\n",
       "      <td>11542182</td>\n",
       "    </tr>\n",
       "    <tr>\n",
       "      <th>North Indian</th>\n",
       "      <td>516310</td>\n",
       "    </tr>\n",
       "    <tr>\n",
       "      <th>North Indian, Chinese</th>\n",
       "      <td>258225</td>\n",
       "    </tr>\n",
       "    <tr>\n",
       "      <th>South Indian</th>\n",
       "      <td>161975</td>\n",
       "    </tr>\n",
       "    <tr>\n",
       "      <th>North Indian, Mughlai</th>\n",
       "      <td>103706</td>\n",
       "    </tr>\n",
       "  </tbody>\n",
       "</table>\n",
       "</div>"
      ],
      "text/plain": [
       "                          votes\n",
       "cuisines                       \n",
       "others                 11542182\n",
       "North Indian             516310\n",
       "North Indian, Chinese    258225\n",
       "South Indian             161975\n",
       "North Indian, Mughlai    103706"
      ]
     },
     "execution_count": 110,
     "metadata": {},
     "output_type": "execute_result"
    }
   ],
   "source": [
    "df6 = df[['cuisines', 'votes']]\n",
    "df6.drop_duplicates()\n",
    "df7 = df6.groupby(['cuisines'])['votes'].sum()\n",
    "df7 = df7.to_frame()\n",
    "df7 = df7.sort_values('votes', ascending=False)\n",
    "df7.head()"
   ]
  },
  {
   "cell_type": "code",
   "execution_count": 111,
   "metadata": {
    "execution": {
     "iopub.execute_input": "2021-06-01T09:48:05.758506Z",
     "iopub.status.busy": "2021-06-01T09:48:05.757985Z",
     "iopub.status.idle": "2021-06-01T09:48:05.769798Z",
     "shell.execute_reply": "2021-06-01T09:48:05.768645Z",
     "shell.execute_reply.started": "2021-06-01T09:48:05.758474Z"
    }
   },
   "outputs": [
    {
     "data": {
      "text/html": [
       "<div>\n",
       "<style scoped>\n",
       "    .dataframe tbody tr th:only-of-type {\n",
       "        vertical-align: middle;\n",
       "    }\n",
       "\n",
       "    .dataframe tbody tr th {\n",
       "        vertical-align: top;\n",
       "    }\n",
       "\n",
       "    .dataframe thead th {\n",
       "        text-align: right;\n",
       "    }\n",
       "</style>\n",
       "<table border=\"1\" class=\"dataframe\">\n",
       "  <thead>\n",
       "    <tr style=\"text-align: right;\">\n",
       "      <th></th>\n",
       "      <th>votes</th>\n",
       "    </tr>\n",
       "    <tr>\n",
       "      <th>cuisines</th>\n",
       "      <th></th>\n",
       "    </tr>\n",
       "  </thead>\n",
       "  <tbody>\n",
       "    <tr>\n",
       "      <th>North Indian</th>\n",
       "      <td>516310</td>\n",
       "    </tr>\n",
       "    <tr>\n",
       "      <th>North Indian, Chinese</th>\n",
       "      <td>258225</td>\n",
       "    </tr>\n",
       "    <tr>\n",
       "      <th>South Indian</th>\n",
       "      <td>161975</td>\n",
       "    </tr>\n",
       "    <tr>\n",
       "      <th>North Indian, Mughlai</th>\n",
       "      <td>103706</td>\n",
       "    </tr>\n",
       "    <tr>\n",
       "      <th>Chinese</th>\n",
       "      <td>101728</td>\n",
       "    </tr>\n",
       "  </tbody>\n",
       "</table>\n",
       "</div>"
      ],
      "text/plain": [
       "                        votes\n",
       "cuisines                     \n",
       "North Indian           516310\n",
       "North Indian, Chinese  258225\n",
       "South Indian           161975\n",
       "North Indian, Mughlai  103706\n",
       "Chinese                101728"
      ]
     },
     "execution_count": 111,
     "metadata": {},
     "output_type": "execute_result"
    }
   ],
   "source": [
    "df7 = df7.iloc[1:, :]\n",
    "df7.head()"
   ]
  },
  {
   "cell_type": "code",
   "execution_count": 116,
   "metadata": {
    "execution": {
     "iopub.execute_input": "2021-06-01T09:48:09.06856Z",
     "iopub.status.busy": "2021-06-01T09:48:09.068127Z",
     "iopub.status.idle": "2021-06-01T09:48:10.574339Z",
     "shell.execute_reply": "2021-06-01T09:48:10.573554Z",
     "shell.execute_reply.started": "2021-06-01T09:48:09.068524Z"
    }
   },
   "outputs": [
    {
     "name": "stderr",
     "output_type": "stream",
     "text": [
      "C:\\Users\\billi\\anaconda3\\lib\\site-packages\\seaborn\\_decorators.py:36: FutureWarning: Pass the following variables as keyword args: x, y. From version 0.12, the only valid positional argument will be `data`, and passing other arguments without an explicit keyword will result in an error or misinterpretation.\n",
      "  warnings.warn(\n"
     ]
    },
    {
     "data": {
      "text/plain": [
       "(array([ 0,  1,  2,  3,  4,  5,  6,  7,  8,  9, 10, 11, 12, 13, 14, 15, 16,\n",
       "        17, 18, 19, 20, 21, 22, 23, 24, 25, 26, 27, 28, 29, 30, 31, 32, 33,\n",
       "        34, 35, 36, 37, 38, 39, 40, 41, 42, 43, 44, 45, 46, 47, 48, 49, 50,\n",
       "        51, 52, 53, 54, 55, 56, 57, 58, 59, 60, 61, 62, 63, 64, 65, 66, 67]),\n",
       " [Text(0, 0, 'North Indian, Chinese'),\n",
       "  Text(1, 0, 'South Indian'),\n",
       "  Text(2, 0, 'North Indian, Mughlai'),\n",
       "  Text(3, 0, 'Chinese'),\n",
       "  Text(4, 0, 'Cafe'),\n",
       "  Text(5, 0, 'North Indian, South Indian'),\n",
       "  Text(6, 0, 'Desserts'),\n",
       "  Text(7, 0, 'Chinese, Momos'),\n",
       "  Text(8, 0, 'Ice Cream, Desserts'),\n",
       "  Text(9, 0, 'Cafe, Continental'),\n",
       "  Text(10, 0, 'Biryani, North Indian, Chinese'),\n",
       "  Text(11, 0, 'Chinese, Thai, Momos'),\n",
       "  Text(12, 0, 'South Indian, North Indian, Chinese'),\n",
       "  Text(13, 0, 'Desserts, Beverages'),\n",
       "  Text(14, 0, 'Biryani'),\n",
       "  Text(15, 0, 'Finger Food'),\n",
       "  Text(16, 0, 'Bakery, Desserts'),\n",
       "  Text(17, 0, 'Burger, Fast Food'),\n",
       "  Text(18, 0, 'Continental'),\n",
       "  Text(19, 0, 'Cafe, Desserts'),\n",
       "  Text(20, 0, 'Andhra, Biryani'),\n",
       "  Text(21, 0, 'North Indian, Continental'),\n",
       "  Text(22, 0, 'Pizza, Fast Food'),\n",
       "  Text(23, 0, 'Chinese, Thai'),\n",
       "  Text(24, 0, 'North Indian, Chinese, Biryani'),\n",
       "  Text(25, 0, 'South Indian, North Indian, Chinese, Street Food'),\n",
       "  Text(26, 0, 'Mithai, Street Food'),\n",
       "  Text(27, 0, 'North Indian, South Indian, Chinese'),\n",
       "  Text(28, 0, 'Desserts, Ice Cream'),\n",
       "  Text(29, 0, 'Biryani, North Indian'),\n",
       "  Text(30, 0, 'North Indian, Street Food'),\n",
       "  Text(31, 0, 'Fast Food'),\n",
       "  Text(32, 0, 'North Indian, Chinese, Seafood'),\n",
       "  Text(33, 0, 'Chinese, North Indian'),\n",
       "  Text(34, 0, 'North Indian, Biryani'),\n",
       "  Text(35, 0, 'Biryani, Kebab'),\n",
       "  Text(36, 0, 'Italian, Pizza'),\n",
       "  Text(37, 0, 'North Indian, Chinese, Fast Food'),\n",
       "  Text(38, 0, 'North Indian, Chinese, Continental'),\n",
       "  Text(39, 0, 'Desserts, Bakery'),\n",
       "  Text(40, 0, 'Arabian'),\n",
       "  Text(41, 0, 'North Indian, Chinese, South Indian'),\n",
       "  Text(42, 0, 'Pizza'),\n",
       "  Text(43, 0, 'South Indian, North Indian'),\n",
       "  Text(44, 0, 'North Indian, Mughlai, Chinese'),\n",
       "  Text(45, 0, 'Beverages, Fast Food'),\n",
       "  Text(46, 0, 'South Indian, Biryani'),\n",
       "  Text(47, 0, 'Fast Food, Rolls'),\n",
       "  Text(48, 0, 'Bakery'),\n",
       "  Text(49, 0, 'Andhra'),\n",
       "  Text(50, 0, 'Street Food'),\n",
       "  Text(51, 0, 'Kerala'),\n",
       "  Text(52, 0, 'Cafe, Bakery'),\n",
       "  Text(53, 0, 'Biryani, Fast Food'),\n",
       "  Text(54, 0, 'South Indian, Fast Food'),\n",
       "  Text(55, 0, 'North Indian, Fast Food'),\n",
       "  Text(56, 0, 'Bakery, Fast Food'),\n",
       "  Text(57, 0, 'Fast Food, Burger'),\n",
       "  Text(58, 0, 'Cafe, Fast Food'),\n",
       "  Text(59, 0, 'South Indian, Chinese'),\n",
       "  Text(60, 0, 'Beverages, Desserts'),\n",
       "  Text(61, 0, 'Ice Cream'),\n",
       "  Text(62, 0, 'Beverages'),\n",
       "  Text(63, 0, 'Biryani, South Indian'),\n",
       "  Text(64, 0, 'Kerala, South Indian'),\n",
       "  Text(65, 0, 'Fast Food, Beverages'),\n",
       "  Text(66, 0, 'South Indian, Chinese, North Indian'),\n",
       "  Text(67, 0, 'Mithai')])"
      ]
     },
     "execution_count": 116,
     "metadata": {},
     "output_type": "execute_result"
    },
    {
     "data": {
      "image/png": "[encoded data removed]",
      "text/plain": [
       "<Figure size 1080x576 with 1 Axes>"
      ]
     },
     "metadata": {},
     "output_type": "display_data"
    }
   ],
   "source": [
    "plt.figure(figsize = (15,8))\n",
    "sns.barplot(df7.index , df7['votes'])\n",
    "plt.xticks(rotation = 90)"
   ]
  },
  {
   "cell_type": "code",
   "execution_count": 115,
   "metadata": {},
   "outputs": [
    {
     "data": {
      "text/html": [
       "<div>\n",
       "<style scoped>\n",
       "    .dataframe tbody tr th:only-of-type {\n",
       "        vertical-align: middle;\n",
       "    }\n",
       "\n",
       "    .dataframe tbody tr th {\n",
       "        vertical-align: top;\n",
       "    }\n",
       "\n",
       "    .dataframe thead th {\n",
       "        text-align: right;\n",
       "    }\n",
       "</style>\n",
       "<table border=\"1\" class=\"dataframe\">\n",
       "  <thead>\n",
       "    <tr style=\"text-align: right;\">\n",
       "      <th></th>\n",
       "      <th>votes</th>\n",
       "    </tr>\n",
       "    <tr>\n",
       "      <th>cuisines</th>\n",
       "      <th></th>\n",
       "    </tr>\n",
       "  </thead>\n",
       "  <tbody>\n",
       "    <tr>\n",
       "      <th>North Indian, Chinese</th>\n",
       "      <td>258225</td>\n",
       "    </tr>\n",
       "    <tr>\n",
       "      <th>South Indian</th>\n",
       "      <td>161975</td>\n",
       "    </tr>\n",
       "    <tr>\n",
       "      <th>North Indian, Mughlai</th>\n",
       "      <td>103706</td>\n",
       "    </tr>\n",
       "    <tr>\n",
       "      <th>Chinese</th>\n",
       "      <td>101728</td>\n",
       "    </tr>\n",
       "    <tr>\n",
       "      <th>Cafe</th>\n",
       "      <td>89986</td>\n",
       "    </tr>\n",
       "  </tbody>\n",
       "</table>\n",
       "</div>"
      ],
      "text/plain": [
       "                        votes\n",
       "cuisines                     \n",
       "North Indian, Chinese  258225\n",
       "South Indian           161975\n",
       "North Indian, Mughlai  103706\n",
       "Chinese                101728\n",
       "Cafe                    89986"
      ]
     },
     "execution_count": 115,
     "metadata": {},
     "output_type": "execute_result"
    }
   ],
   "source": [
    "df7 = df7.iloc[1:, :]\n",
    "df7.head()"
   ]
  },
  {
   "cell_type": "code",
   "execution_count": 118,
   "metadata": {},
   "outputs": [
    {
     "data": {
      "image/png": "[encoded data removed]",
      "text/plain": [
       "<Figure size 1080x720 with 1 Axes>"
      ]
     },
     "metadata": {},
     "output_type": "display_data"
    }
   ],
   "source": [
    "top_20=df.name.value_counts()[:20]\n",
    "plt.figure(figsize=(15,10))\n",
    "ax=top_20.plot(kind='pie',autopct='%1.2f%%')\n",
    "plt.title('Name Percentage', weight='bold')\n",
    "plt.show()"
   ]
  },
  {
   "cell_type": "code",
   "execution_count": 122,
   "metadata": {},
   "outputs": [
    {
     "data": {
      "text/plain": [
       "<AxesSubplot:>"
      ]
     },
     "execution_count": 122,
     "metadata": {},
     "output_type": "execute_result"
    },
    {
     "data": {
      "image/png": "[encoded data removed]",
      "text/plain": [
       "<Figure size 864x432 with 2 Axes>"
      ]
     },
     "metadata": {},
     "output_type": "display_data"
    }
   ],
   "source": [
    "def Encode(df):\n",
    "    for column in df.columns[~df.columns.isin(['rate', 'cost', 'votes'])]:\n",
    "        df[column] = df[column].factorize()[0]\n",
    "    return df\n",
    "\n",
    "df_zom = Encode(df.copy())\n",
    " \n",
    "corr = df_zom.corr(method='kendall')\n",
    "plt.figure(figsize=(12,6))\n",
    "sns.heatmap(corr, annot=True)"
   ]
  },
  {
   "cell_type": "code",
   "execution_count": 129,
   "metadata": {},
   "outputs": [
    {
     "data": {
      "image/png": "[encoded data removed]",
      "text/plain": [
       "<Figure size 1152x1152 with 1 Axes>"
      ]
     },
     "metadata": {},
     "output_type": "display_data"
    }
   ],
   "source": [
    "df['Cost2plates']=df['Cost2plates'].apply(float)\n",
    "df['Cost2plates']=df['Cost2plates'].map(float)\n",
    "plt.figure(figsize=(16,16))\n",
    "\n",
    "sns.regplot(x=df['Cost2plates'],y=df['rate']);\n",
    "plt.xlabel(\"Cost in Rupees\")\n",
    "plt.ylabel(\"Rating\")\n",
    "plt.grid()\n",
    "plt.title(\"Cost vs Rating\");\n"
   ]
  },
  {
   "cell_type": "code",
   "execution_count": null,
   "metadata": {},
   "outputs": [],
   "source": []
  }
 ],
 "metadata": {
  "kernelspec": {
   "display_name": "Python 3 (ipykernel)",
   "language": "python",
   "name": "python3"
  },
  "language_info": {
   "codemirror_mode": {
    "name": "ipython",
    "version": 3
   },
   "file_extension": ".py",
   "mimetype": "text/x-python",
   "name": "python",
   "nbconvert_exporter": "python",
   "pygments_lexer": "ipython3",
   "version": "3.9.12"
  }
 },
 "nbformat": 4,
 "nbformat_minor": 4
}
